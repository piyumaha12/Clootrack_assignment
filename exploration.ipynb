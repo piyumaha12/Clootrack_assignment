{
  "cells": [
    {
      "cell_type": "markdown",
      "metadata": {
        "id": "view-in-github",
        "colab_type": "text"
      },
      "source": [
        "<a href=\"https://colab.research.google.com/github/piyumaha12/Clootrack_assignment/blob/main/exploration.ipynb\" target=\"_parent\"><img src=\"https://colab.research.google.com/assets/colab-badge.svg\" alt=\"Open In Colab\"/></a>"
      ]
    },
    {
      "cell_type": "markdown",
      "metadata": {
        "id": "ObKi2b3n-nr9"
      },
      "source": [
        "# Import Libraries"
      ]
    },
    {
      "cell_type": "code",
      "source": [
        "# !pip install googletrans\n",
        "# !pip install pycld2"
      ],
      "metadata": {
        "id": "mNxR4pkg-21n"
      },
      "execution_count": 54,
      "outputs": []
    },
    {
      "cell_type": "code",
      "source": [
        "# !pip3 uninstall googletrans\n",
        "# !pip3 install googletrans==3.1.0a0"
      ],
      "metadata": {
        "id": "QqCx9bjHDSKb"
      },
      "execution_count": 55,
      "outputs": []
    },
    {
      "cell_type": "code",
      "execution_count": 56,
      "metadata": {
        "id": "J8E-NLSM-nsM"
      },
      "outputs": [],
      "source": [
        "import pandas as pd\n",
        "import nltk\n",
        "import re\n",
        "import string\n",
        "import os\n",
        "import spacy\n",
        "import seaborn as sns\n",
        "import matplotlib.pyplot as plt\n",
        "import plotly.express as px\n",
        "import pycld2 as cld2\n",
        "\n",
        "\n",
        "from sklearn.feature_extraction.text import CountVectorizer\n",
        "# from spacy_langdetect import LanguageDetector\n",
        "from googletrans import Translator"
      ]
    },
    {
      "cell_type": "code",
      "source": [
        "from google.colab import drive\n",
        "drive.mount('/content/drive')"
      ],
      "metadata": {
        "colab": {
          "base_uri": "https://localhost:8080/"
        },
        "id": "E5utIGOJ-zLz",
        "outputId": "273c460f-3cc0-4590-cd36-2d364f1f2efe"
      },
      "execution_count": 57,
      "outputs": [
        {
          "output_type": "stream",
          "name": "stdout",
          "text": [
            "Drive already mounted at /content/drive; to attempt to forcibly remount, call drive.mount(\"/content/drive\", force_remount=True).\n"
          ]
        }
      ]
    },
    {
      "cell_type": "code",
      "execution_count": 58,
      "metadata": {
        "id": "FrrsDS3k-nsX"
      },
      "outputs": [],
      "source": [
        "PATH = '/content/drive/MyDrive/Clootrack/'"
      ]
    },
    {
      "cell_type": "markdown",
      "metadata": {
        "id": "Z40hOi2n-nsZ"
      },
      "source": [
        "# Dataset import"
      ]
    },
    {
      "cell_type": "code",
      "execution_count": 59,
      "metadata": {
        "colab": {
          "base_uri": "https://localhost:8080/"
        },
        "id": "_nkcGqte-nsc",
        "outputId": "a3954b65-f24d-4448-a459-a3b55325d11c"
      },
      "outputs": [
        {
          "output_type": "execute_result",
          "data": {
            "text/plain": [
              "(6448, 3)"
            ]
          },
          "metadata": {},
          "execution_count": 59
        }
      ],
      "source": [
        "data = pd.read_csv(PATH+'Data Analyst - Test Data - US.csv')\n",
        "\n",
        "data.shape"
      ]
    },
    {
      "cell_type": "code",
      "execution_count": 60,
      "metadata": {
        "id": "65MN1xAj-nse"
      },
      "outputs": [],
      "source": [
        "def read_txt(path):\n",
        "    with open(path, encoding='latin') as file:\n",
        "        T = file.readlines()\n",
        "    T = [x.strip() for x in T]\n",
        "    T = T[30:]\n",
        "    return T\n"
      ]
    },
    {
      "cell_type": "code",
      "execution_count": 61,
      "metadata": {
        "id": "Sq6Co4Js-nsh"
      },
      "outputs": [],
      "source": [
        "positive_words = read_txt(PATH + 'positive-words.txt')\n",
        "negative_words = read_txt(PATH + 'negative-words.txt')"
      ]
    },
    {
      "cell_type": "code",
      "execution_count": 62,
      "metadata": {
        "id": "wSNeGitM-nsj"
      },
      "outputs": [],
      "source": [
        "afinn = pd.read_csv(PATH +'Afinn.csv', encoding= 'latin')"
      ]
    },
    {
      "cell_type": "code",
      "execution_count": 63,
      "metadata": {
        "colab": {
          "base_uri": "https://localhost:8080/",
          "height": 206
        },
        "id": "FQYLjcE0-nsk",
        "outputId": "4c15999f-23cd-4b82-af3a-aef9ae48e393"
      },
      "outputs": [
        {
          "output_type": "execute_result",
          "data": {
            "text/plain": [
              "                                              Review        date     Location\n",
              "0  I was very impressed with the resort.\\n Great ...  2019/08/20    Sebastian\n",
              "1  The rooms were nice the outside needs work als...  2019/08/20  Los Angeles\n",
              "2  Great location! I have stayed at this hotel on...  2019/08/20      Georgia\n",
              "3  The hotel was adequate for my stay. The strips...  2019/08/20          NaN\n",
              "4  Great location, room was large and spacious. P...  2019/08/19  Palm Harbor"
            ],
            "text/html": [
              "\n",
              "  <div id=\"df-23bc788d-c7d0-41f7-baa9-7d16b0b690b9\">\n",
              "    <div class=\"colab-df-container\">\n",
              "      <div>\n",
              "<style scoped>\n",
              "    .dataframe tbody tr th:only-of-type {\n",
              "        vertical-align: middle;\n",
              "    }\n",
              "\n",
              "    .dataframe tbody tr th {\n",
              "        vertical-align: top;\n",
              "    }\n",
              "\n",
              "    .dataframe thead th {\n",
              "        text-align: right;\n",
              "    }\n",
              "</style>\n",
              "<table border=\"1\" class=\"dataframe\">\n",
              "  <thead>\n",
              "    <tr style=\"text-align: right;\">\n",
              "      <th></th>\n",
              "      <th>Review</th>\n",
              "      <th>date</th>\n",
              "      <th>Location</th>\n",
              "    </tr>\n",
              "  </thead>\n",
              "  <tbody>\n",
              "    <tr>\n",
              "      <th>0</th>\n",
              "      <td>I was very impressed with the resort.\\n Great ...</td>\n",
              "      <td>2019/08/20</td>\n",
              "      <td>Sebastian</td>\n",
              "    </tr>\n",
              "    <tr>\n",
              "      <th>1</th>\n",
              "      <td>The rooms were nice the outside needs work als...</td>\n",
              "      <td>2019/08/20</td>\n",
              "      <td>Los Angeles</td>\n",
              "    </tr>\n",
              "    <tr>\n",
              "      <th>2</th>\n",
              "      <td>Great location! I have stayed at this hotel on...</td>\n",
              "      <td>2019/08/20</td>\n",
              "      <td>Georgia</td>\n",
              "    </tr>\n",
              "    <tr>\n",
              "      <th>3</th>\n",
              "      <td>The hotel was adequate for my stay. The strips...</td>\n",
              "      <td>2019/08/20</td>\n",
              "      <td>NaN</td>\n",
              "    </tr>\n",
              "    <tr>\n",
              "      <th>4</th>\n",
              "      <td>Great location, room was large and spacious. P...</td>\n",
              "      <td>2019/08/19</td>\n",
              "      <td>Palm Harbor</td>\n",
              "    </tr>\n",
              "  </tbody>\n",
              "</table>\n",
              "</div>\n",
              "      <button class=\"colab-df-convert\" onclick=\"convertToInteractive('df-23bc788d-c7d0-41f7-baa9-7d16b0b690b9')\"\n",
              "              title=\"Convert this dataframe to an interactive table.\"\n",
              "              style=\"display:none;\">\n",
              "        \n",
              "  <svg xmlns=\"http://www.w3.org/2000/svg\" height=\"24px\"viewBox=\"0 0 24 24\"\n",
              "       width=\"24px\">\n",
              "    <path d=\"M0 0h24v24H0V0z\" fill=\"none\"/>\n",
              "    <path d=\"M18.56 5.44l.94 2.06.94-2.06 2.06-.94-2.06-.94-.94-2.06-.94 2.06-2.06.94zm-11 1L8.5 8.5l.94-2.06 2.06-.94-2.06-.94L8.5 2.5l-.94 2.06-2.06.94zm10 10l.94 2.06.94-2.06 2.06-.94-2.06-.94-.94-2.06-.94 2.06-2.06.94z\"/><path d=\"M17.41 7.96l-1.37-1.37c-.4-.4-.92-.59-1.43-.59-.52 0-1.04.2-1.43.59L10.3 9.45l-7.72 7.72c-.78.78-.78 2.05 0 2.83L4 21.41c.39.39.9.59 1.41.59.51 0 1.02-.2 1.41-.59l7.78-7.78 2.81-2.81c.8-.78.8-2.07 0-2.86zM5.41 20L4 18.59l7.72-7.72 1.47 1.35L5.41 20z\"/>\n",
              "  </svg>\n",
              "      </button>\n",
              "      \n",
              "  <style>\n",
              "    .colab-df-container {\n",
              "      display:flex;\n",
              "      flex-wrap:wrap;\n",
              "      gap: 12px;\n",
              "    }\n",
              "\n",
              "    .colab-df-convert {\n",
              "      background-color: #E8F0FE;\n",
              "      border: none;\n",
              "      border-radius: 50%;\n",
              "      cursor: pointer;\n",
              "      display: none;\n",
              "      fill: #1967D2;\n",
              "      height: 32px;\n",
              "      padding: 0 0 0 0;\n",
              "      width: 32px;\n",
              "    }\n",
              "\n",
              "    .colab-df-convert:hover {\n",
              "      background-color: #E2EBFA;\n",
              "      box-shadow: 0px 1px 2px rgba(60, 64, 67, 0.3), 0px 1px 3px 1px rgba(60, 64, 67, 0.15);\n",
              "      fill: #174EA6;\n",
              "    }\n",
              "\n",
              "    [theme=dark] .colab-df-convert {\n",
              "      background-color: #3B4455;\n",
              "      fill: #D2E3FC;\n",
              "    }\n",
              "\n",
              "    [theme=dark] .colab-df-convert:hover {\n",
              "      background-color: #434B5C;\n",
              "      box-shadow: 0px 1px 3px 1px rgba(0, 0, 0, 0.15);\n",
              "      filter: drop-shadow(0px 1px 2px rgba(0, 0, 0, 0.3));\n",
              "      fill: #FFFFFF;\n",
              "    }\n",
              "  </style>\n",
              "\n",
              "      <script>\n",
              "        const buttonEl =\n",
              "          document.querySelector('#df-23bc788d-c7d0-41f7-baa9-7d16b0b690b9 button.colab-df-convert');\n",
              "        buttonEl.style.display =\n",
              "          google.colab.kernel.accessAllowed ? 'block' : 'none';\n",
              "\n",
              "        async function convertToInteractive(key) {\n",
              "          const element = document.querySelector('#df-23bc788d-c7d0-41f7-baa9-7d16b0b690b9');\n",
              "          const dataTable =\n",
              "            await google.colab.kernel.invokeFunction('convertToInteractive',\n",
              "                                                     [key], {});\n",
              "          if (!dataTable) return;\n",
              "\n",
              "          const docLinkHtml = 'Like what you see? Visit the ' +\n",
              "            '<a target=\"_blank\" href=https://colab.research.google.com/notebooks/data_table.ipynb>data table notebook</a>'\n",
              "            + ' to learn more about interactive tables.';\n",
              "          element.innerHTML = '';\n",
              "          dataTable['output_type'] = 'display_data';\n",
              "          await google.colab.output.renderOutput(dataTable, element);\n",
              "          const docLink = document.createElement('div');\n",
              "          docLink.innerHTML = docLinkHtml;\n",
              "          element.appendChild(docLink);\n",
              "        }\n",
              "      </script>\n",
              "    </div>\n",
              "  </div>\n",
              "  "
            ]
          },
          "metadata": {},
          "execution_count": 63
        }
      ],
      "source": [
        "data.head()"
      ]
    },
    {
      "cell_type": "code",
      "execution_count": 64,
      "metadata": {
        "colab": {
          "base_uri": "https://localhost:8080/",
          "height": 206
        },
        "id": "CBEvjqLh-nso",
        "outputId": "776567c5-b966-40fa-b067-c49563910117"
      },
      "outputs": [
        {
          "output_type": "execute_result",
          "data": {
            "text/plain": [
              "                                                 Review        date  \\\n",
              "6443  ·the staff were all so friendly. frank, the ch...  2019/07/12   \n",
              "6444         ·the internet barely worked or didn't work  2019/07/12   \n",
              "6445  ·the location was great.\\n \\n \\n \\n \\n ·the be...  2019/07/10   \n",
              "6446  ·we were early for check in and the staff was ...  2019/07/10   \n",
              "6447  ·staff, free coffee, location and activities.\\...  2019/07/10   \n",
              "\n",
              "                      Location  \n",
              "6443  United States of America  \n",
              "6444  United States of America  \n",
              "6445  United States of America  \n",
              "6446  United States of America  \n",
              "6447  United States of America  "
            ],
            "text/html": [
              "\n",
              "  <div id=\"df-473c4cee-1b6c-42f7-9f4c-fae7582858f0\">\n",
              "    <div class=\"colab-df-container\">\n",
              "      <div>\n",
              "<style scoped>\n",
              "    .dataframe tbody tr th:only-of-type {\n",
              "        vertical-align: middle;\n",
              "    }\n",
              "\n",
              "    .dataframe tbody tr th {\n",
              "        vertical-align: top;\n",
              "    }\n",
              "\n",
              "    .dataframe thead th {\n",
              "        text-align: right;\n",
              "    }\n",
              "</style>\n",
              "<table border=\"1\" class=\"dataframe\">\n",
              "  <thead>\n",
              "    <tr style=\"text-align: right;\">\n",
              "      <th></th>\n",
              "      <th>Review</th>\n",
              "      <th>date</th>\n",
              "      <th>Location</th>\n",
              "    </tr>\n",
              "  </thead>\n",
              "  <tbody>\n",
              "    <tr>\n",
              "      <th>6443</th>\n",
              "      <td>·the staff were all so friendly. frank, the ch...</td>\n",
              "      <td>2019/07/12</td>\n",
              "      <td>United States of America</td>\n",
              "    </tr>\n",
              "    <tr>\n",
              "      <th>6444</th>\n",
              "      <td>·the internet barely worked or didn't work</td>\n",
              "      <td>2019/07/12</td>\n",
              "      <td>United States of America</td>\n",
              "    </tr>\n",
              "    <tr>\n",
              "      <th>6445</th>\n",
              "      <td>·the location was great.\\n \\n \\n \\n \\n ·the be...</td>\n",
              "      <td>2019/07/10</td>\n",
              "      <td>United States of America</td>\n",
              "    </tr>\n",
              "    <tr>\n",
              "      <th>6446</th>\n",
              "      <td>·we were early for check in and the staff was ...</td>\n",
              "      <td>2019/07/10</td>\n",
              "      <td>United States of America</td>\n",
              "    </tr>\n",
              "    <tr>\n",
              "      <th>6447</th>\n",
              "      <td>·staff, free coffee, location and activities.\\...</td>\n",
              "      <td>2019/07/10</td>\n",
              "      <td>United States of America</td>\n",
              "    </tr>\n",
              "  </tbody>\n",
              "</table>\n",
              "</div>\n",
              "      <button class=\"colab-df-convert\" onclick=\"convertToInteractive('df-473c4cee-1b6c-42f7-9f4c-fae7582858f0')\"\n",
              "              title=\"Convert this dataframe to an interactive table.\"\n",
              "              style=\"display:none;\">\n",
              "        \n",
              "  <svg xmlns=\"http://www.w3.org/2000/svg\" height=\"24px\"viewBox=\"0 0 24 24\"\n",
              "       width=\"24px\">\n",
              "    <path d=\"M0 0h24v24H0V0z\" fill=\"none\"/>\n",
              "    <path d=\"M18.56 5.44l.94 2.06.94-2.06 2.06-.94-2.06-.94-.94-2.06-.94 2.06-2.06.94zm-11 1L8.5 8.5l.94-2.06 2.06-.94-2.06-.94L8.5 2.5l-.94 2.06-2.06.94zm10 10l.94 2.06.94-2.06 2.06-.94-2.06-.94-.94-2.06-.94 2.06-2.06.94z\"/><path d=\"M17.41 7.96l-1.37-1.37c-.4-.4-.92-.59-1.43-.59-.52 0-1.04.2-1.43.59L10.3 9.45l-7.72 7.72c-.78.78-.78 2.05 0 2.83L4 21.41c.39.39.9.59 1.41.59.51 0 1.02-.2 1.41-.59l7.78-7.78 2.81-2.81c.8-.78.8-2.07 0-2.86zM5.41 20L4 18.59l7.72-7.72 1.47 1.35L5.41 20z\"/>\n",
              "  </svg>\n",
              "      </button>\n",
              "      \n",
              "  <style>\n",
              "    .colab-df-container {\n",
              "      display:flex;\n",
              "      flex-wrap:wrap;\n",
              "      gap: 12px;\n",
              "    }\n",
              "\n",
              "    .colab-df-convert {\n",
              "      background-color: #E8F0FE;\n",
              "      border: none;\n",
              "      border-radius: 50%;\n",
              "      cursor: pointer;\n",
              "      display: none;\n",
              "      fill: #1967D2;\n",
              "      height: 32px;\n",
              "      padding: 0 0 0 0;\n",
              "      width: 32px;\n",
              "    }\n",
              "\n",
              "    .colab-df-convert:hover {\n",
              "      background-color: #E2EBFA;\n",
              "      box-shadow: 0px 1px 2px rgba(60, 64, 67, 0.3), 0px 1px 3px 1px rgba(60, 64, 67, 0.15);\n",
              "      fill: #174EA6;\n",
              "    }\n",
              "\n",
              "    [theme=dark] .colab-df-convert {\n",
              "      background-color: #3B4455;\n",
              "      fill: #D2E3FC;\n",
              "    }\n",
              "\n",
              "    [theme=dark] .colab-df-convert:hover {\n",
              "      background-color: #434B5C;\n",
              "      box-shadow: 0px 1px 3px 1px rgba(0, 0, 0, 0.15);\n",
              "      filter: drop-shadow(0px 1px 2px rgba(0, 0, 0, 0.3));\n",
              "      fill: #FFFFFF;\n",
              "    }\n",
              "  </style>\n",
              "\n",
              "      <script>\n",
              "        const buttonEl =\n",
              "          document.querySelector('#df-473c4cee-1b6c-42f7-9f4c-fae7582858f0 button.colab-df-convert');\n",
              "        buttonEl.style.display =\n",
              "          google.colab.kernel.accessAllowed ? 'block' : 'none';\n",
              "\n",
              "        async function convertToInteractive(key) {\n",
              "          const element = document.querySelector('#df-473c4cee-1b6c-42f7-9f4c-fae7582858f0');\n",
              "          const dataTable =\n",
              "            await google.colab.kernel.invokeFunction('convertToInteractive',\n",
              "                                                     [key], {});\n",
              "          if (!dataTable) return;\n",
              "\n",
              "          const docLinkHtml = 'Like what you see? Visit the ' +\n",
              "            '<a target=\"_blank\" href=https://colab.research.google.com/notebooks/data_table.ipynb>data table notebook</a>'\n",
              "            + ' to learn more about interactive tables.';\n",
              "          element.innerHTML = '';\n",
              "          dataTable['output_type'] = 'display_data';\n",
              "          await google.colab.output.renderOutput(dataTable, element);\n",
              "          const docLink = document.createElement('div');\n",
              "          docLink.innerHTML = docLinkHtml;\n",
              "          element.appendChild(docLink);\n",
              "        }\n",
              "      </script>\n",
              "    </div>\n",
              "  </div>\n",
              "  "
            ]
          },
          "metadata": {},
          "execution_count": 64
        }
      ],
      "source": [
        "data.tail()"
      ]
    },
    {
      "cell_type": "code",
      "execution_count": 65,
      "metadata": {
        "colab": {
          "base_uri": "https://localhost:8080/"
        },
        "id": "KTlU5nzz-nsr",
        "outputId": "66d94f64-7758-4df5-d401-582e7a59793c"
      },
      "outputs": [
        {
          "output_type": "execute_result",
          "data": {
            "text/plain": [
              "array(['I was very impressed with the resort.\\n Great staff at the main resort pool bar! We had a blast with them.\\n Clean, professional staff, great location and very reasonable!\\n  \\n  Read more\\n  Read less',\n",
              "       'The rooms were nice the outside needs work also no free breakfast it would have been nice overall it was ok\\n  \\n  Read more\\n  Read less',\n",
              "       'Great location! I have stayed at this hotel on my last three trips to New York.\\n  \\n  Read more\\n  Read less',\n",
              "       'The hotel was adequate for my stay. The strips in the bathtub were useless as I fell while taking a shower. I asked the front desk staff several times to get a bath mat but they never did. Management was unresponsive to my request which was very poor; someone should have gone to a dollar store and gotten a bath mat. Breakfast was good but it would have been nice to have had yogurt and/or cottage cheese on the buffet.\\n  \\n  Read more\\n  Read less',\n",
              "       'Great location, room was large and spacious. Parking was easy and we appreciated the friendly staff\\n  \\n  Read more\\n  Read less',\n",
              "       'All the options for fun were great! Do wish there were a better policy on the lazy river floats. Lots of people\\n Hoarding them.\\n  \\n  Read more\\n  Read less',\n",
              "       'Old. Musty. Motel. \\n Bath need an update asap\\n !!!!!!\\n  \\n  Read more\\n  Read less',\n",
              "       'Loved the layout of the hotel and the relaxing pool area.\\n Only con was housekeeping/maintenance staff passing the room with carts and speaking loudly on radios at 7-7:30 am.\\n  \\n  Read more\\n  Read less',\n",
              "       'My wife and I loved everything about it. It’s close to everything and everywhere. \\n We will be recommending to others and we will definitely be back.\\n  \\n  Read more\\n  Read less',\n",
              "       'rooms were very small, was told i had a complimentary upgrade to a empire state building view room but it was a regular room, everything else was ok.\\n  \\n  Read more\\n  Read less'],\n",
              "      dtype=object)"
            ]
          },
          "metadata": {},
          "execution_count": 65
        }
      ],
      "source": [
        "data.Review[:10].values"
      ]
    },
    {
      "cell_type": "markdown",
      "metadata": {
        "id": "n1zlKw8u-nsu"
      },
      "source": [
        "# Basic Exploration"
      ]
    },
    {
      "cell_type": "code",
      "execution_count": 66,
      "metadata": {
        "colab": {
          "base_uri": "https://localhost:8080/",
          "height": 175
        },
        "id": "q0ZouA18-nsw",
        "outputId": "a31262b0-4373-428a-9b10-5b07ef1700a2"
      },
      "outputs": [
        {
          "output_type": "execute_result",
          "data": {
            "text/plain": [
              "                                       Review      date  \\\n",
              "count                                    6393      6448   \n",
              "unique                                   6384       403   \n",
              "top     Amazing\\n  \\n  Read more\\n  Read less  Jun 2019   \n",
              "freq                                        4       145   \n",
              "\n",
              "                        Location  \n",
              "count                       1711  \n",
              "unique                      1082  \n",
              "top     United States of America  \n",
              "freq                         116  "
            ],
            "text/html": [
              "\n",
              "  <div id=\"df-01493423-2e75-4acb-ab29-df63ef9986f0\">\n",
              "    <div class=\"colab-df-container\">\n",
              "      <div>\n",
              "<style scoped>\n",
              "    .dataframe tbody tr th:only-of-type {\n",
              "        vertical-align: middle;\n",
              "    }\n",
              "\n",
              "    .dataframe tbody tr th {\n",
              "        vertical-align: top;\n",
              "    }\n",
              "\n",
              "    .dataframe thead th {\n",
              "        text-align: right;\n",
              "    }\n",
              "</style>\n",
              "<table border=\"1\" class=\"dataframe\">\n",
              "  <thead>\n",
              "    <tr style=\"text-align: right;\">\n",
              "      <th></th>\n",
              "      <th>Review</th>\n",
              "      <th>date</th>\n",
              "      <th>Location</th>\n",
              "    </tr>\n",
              "  </thead>\n",
              "  <tbody>\n",
              "    <tr>\n",
              "      <th>count</th>\n",
              "      <td>6393</td>\n",
              "      <td>6448</td>\n",
              "      <td>1711</td>\n",
              "    </tr>\n",
              "    <tr>\n",
              "      <th>unique</th>\n",
              "      <td>6384</td>\n",
              "      <td>403</td>\n",
              "      <td>1082</td>\n",
              "    </tr>\n",
              "    <tr>\n",
              "      <th>top</th>\n",
              "      <td>Amazing\\n  \\n  Read more\\n  Read less</td>\n",
              "      <td>Jun 2019</td>\n",
              "      <td>United States of America</td>\n",
              "    </tr>\n",
              "    <tr>\n",
              "      <th>freq</th>\n",
              "      <td>4</td>\n",
              "      <td>145</td>\n",
              "      <td>116</td>\n",
              "    </tr>\n",
              "  </tbody>\n",
              "</table>\n",
              "</div>\n",
              "      <button class=\"colab-df-convert\" onclick=\"convertToInteractive('df-01493423-2e75-4acb-ab29-df63ef9986f0')\"\n",
              "              title=\"Convert this dataframe to an interactive table.\"\n",
              "              style=\"display:none;\">\n",
              "        \n",
              "  <svg xmlns=\"http://www.w3.org/2000/svg\" height=\"24px\"viewBox=\"0 0 24 24\"\n",
              "       width=\"24px\">\n",
              "    <path d=\"M0 0h24v24H0V0z\" fill=\"none\"/>\n",
              "    <path d=\"M18.56 5.44l.94 2.06.94-2.06 2.06-.94-2.06-.94-.94-2.06-.94 2.06-2.06.94zm-11 1L8.5 8.5l.94-2.06 2.06-.94-2.06-.94L8.5 2.5l-.94 2.06-2.06.94zm10 10l.94 2.06.94-2.06 2.06-.94-2.06-.94-.94-2.06-.94 2.06-2.06.94z\"/><path d=\"M17.41 7.96l-1.37-1.37c-.4-.4-.92-.59-1.43-.59-.52 0-1.04.2-1.43.59L10.3 9.45l-7.72 7.72c-.78.78-.78 2.05 0 2.83L4 21.41c.39.39.9.59 1.41.59.51 0 1.02-.2 1.41-.59l7.78-7.78 2.81-2.81c.8-.78.8-2.07 0-2.86zM5.41 20L4 18.59l7.72-7.72 1.47 1.35L5.41 20z\"/>\n",
              "  </svg>\n",
              "      </button>\n",
              "      \n",
              "  <style>\n",
              "    .colab-df-container {\n",
              "      display:flex;\n",
              "      flex-wrap:wrap;\n",
              "      gap: 12px;\n",
              "    }\n",
              "\n",
              "    .colab-df-convert {\n",
              "      background-color: #E8F0FE;\n",
              "      border: none;\n",
              "      border-radius: 50%;\n",
              "      cursor: pointer;\n",
              "      display: none;\n",
              "      fill: #1967D2;\n",
              "      height: 32px;\n",
              "      padding: 0 0 0 0;\n",
              "      width: 32px;\n",
              "    }\n",
              "\n",
              "    .colab-df-convert:hover {\n",
              "      background-color: #E2EBFA;\n",
              "      box-shadow: 0px 1px 2px rgba(60, 64, 67, 0.3), 0px 1px 3px 1px rgba(60, 64, 67, 0.15);\n",
              "      fill: #174EA6;\n",
              "    }\n",
              "\n",
              "    [theme=dark] .colab-df-convert {\n",
              "      background-color: #3B4455;\n",
              "      fill: #D2E3FC;\n",
              "    }\n",
              "\n",
              "    [theme=dark] .colab-df-convert:hover {\n",
              "      background-color: #434B5C;\n",
              "      box-shadow: 0px 1px 3px 1px rgba(0, 0, 0, 0.15);\n",
              "      filter: drop-shadow(0px 1px 2px rgba(0, 0, 0, 0.3));\n",
              "      fill: #FFFFFF;\n",
              "    }\n",
              "  </style>\n",
              "\n",
              "      <script>\n",
              "        const buttonEl =\n",
              "          document.querySelector('#df-01493423-2e75-4acb-ab29-df63ef9986f0 button.colab-df-convert');\n",
              "        buttonEl.style.display =\n",
              "          google.colab.kernel.accessAllowed ? 'block' : 'none';\n",
              "\n",
              "        async function convertToInteractive(key) {\n",
              "          const element = document.querySelector('#df-01493423-2e75-4acb-ab29-df63ef9986f0');\n",
              "          const dataTable =\n",
              "            await google.colab.kernel.invokeFunction('convertToInteractive',\n",
              "                                                     [key], {});\n",
              "          if (!dataTable) return;\n",
              "\n",
              "          const docLinkHtml = 'Like what you see? Visit the ' +\n",
              "            '<a target=\"_blank\" href=https://colab.research.google.com/notebooks/data_table.ipynb>data table notebook</a>'\n",
              "            + ' to learn more about interactive tables.';\n",
              "          element.innerHTML = '';\n",
              "          dataTable['output_type'] = 'display_data';\n",
              "          await google.colab.output.renderOutput(dataTable, element);\n",
              "          const docLink = document.createElement('div');\n",
              "          docLink.innerHTML = docLinkHtml;\n",
              "          element.appendChild(docLink);\n",
              "        }\n",
              "      </script>\n",
              "    </div>\n",
              "  </div>\n",
              "  "
            ]
          },
          "metadata": {},
          "execution_count": 66
        }
      ],
      "source": [
        "data.describe()"
      ]
    },
    {
      "cell_type": "code",
      "execution_count": 67,
      "metadata": {
        "colab": {
          "base_uri": "https://localhost:8080/"
        },
        "id": "ODEyNqiC-nsy",
        "outputId": "04d118b9-e3c7-4941-fdc6-be4dc85cae70"
      },
      "outputs": [
        {
          "output_type": "stream",
          "name": "stdout",
          "text": [
            "<class 'pandas.core.frame.DataFrame'>\n",
            "RangeIndex: 6448 entries, 0 to 6447\n",
            "Data columns (total 3 columns):\n",
            " #   Column    Non-Null Count  Dtype \n",
            "---  ------    --------------  ----- \n",
            " 0   Review    6393 non-null   object\n",
            " 1   date      6448 non-null   object\n",
            " 2   Location  1711 non-null   object\n",
            "dtypes: object(3)\n",
            "memory usage: 151.2+ KB\n"
          ]
        }
      ],
      "source": [
        "data.info()"
      ]
    },
    {
      "cell_type": "code",
      "execution_count": 68,
      "metadata": {
        "colab": {
          "base_uri": "https://localhost:8080/"
        },
        "id": "hzomzN1A-ns0",
        "outputId": "3f0eea1a-f997-4a28-b0f9-55cbda973285"
      },
      "outputs": [
        {
          "output_type": "execute_result",
          "data": {
            "text/plain": [
              "Review        55\n",
              "date           0\n",
              "Location    4737\n",
              "dtype: int64"
            ]
          },
          "metadata": {},
          "execution_count": 68
        }
      ],
      "source": [
        "data.isnull().sum()"
      ]
    },
    {
      "cell_type": "code",
      "execution_count": 69,
      "metadata": {
        "id": "n0_S4qL1-ns2"
      },
      "outputs": [],
      "source": [
        "data = data.dropna(subset= ['Review'])"
      ]
    },
    {
      "cell_type": "code",
      "execution_count": 70,
      "metadata": {
        "id": "Ly2tfwLT-ns3"
      },
      "outputs": [],
      "source": [
        "data.reset_index(inplace= True, drop = True)"
      ]
    },
    {
      "cell_type": "code",
      "execution_count": 71,
      "metadata": {
        "colab": {
          "base_uri": "https://localhost:8080/"
        },
        "id": "URxdAYf5-ns5",
        "outputId": "96ced40a-0290-4931-f1d4-6123eea16861"
      },
      "outputs": [
        {
          "output_type": "execute_result",
          "data": {
            "text/plain": [
              "Review         0\n",
              "date           0\n",
              "Location    4688\n",
              "dtype: int64"
            ]
          },
          "metadata": {},
          "execution_count": 71
        }
      ],
      "source": [
        "data.isnull().sum()"
      ]
    },
    {
      "cell_type": "code",
      "execution_count": 72,
      "metadata": {
        "colab": {
          "base_uri": "https://localhost:8080/"
        },
        "id": "31DTA1Lj-ns7",
        "outputId": "88b40f21-12aa-47af-f133-0b1574173c36"
      },
      "outputs": [
        {
          "output_type": "execute_result",
          "data": {
            "text/plain": [
              "United States of America    116\n",
              "New York                     34\n",
              "San Jose                     19\n",
              "California                   19\n",
              "Florida                      16\n",
              "Canada                       16\n",
              "United Kingdom               14\n",
              "New York, NY                 13\n",
              "Toronto                      12\n",
              "Miami                        12\n",
              "Orlando                      12\n",
              "NY                           12\n",
              "Seattle                      12\n",
              "San Diego                    11\n",
              "Chicago                      11\n",
              "Los Angeles                  10\n",
              "Philadelphia                  9\n",
              "NYC                           9\n",
              "Boston                        9\n",
              "Maryland                      8\n",
              "New Jersey                    8\n",
              "London                        8\n",
              "Puerto Rico                   7\n",
              "Washington, DC                7\n",
              "Irvine                        6\n",
              "Sacramento                    6\n",
              "Singapore                     6\n",
              "Michigan                      6\n",
              "Tampa                         6\n",
              "San Francisco                 6\n",
              "Atlanta, GA                   5\n",
              "Vancouver                     5\n",
              "San Francisco, CA             5\n",
              "Jacksonville                  5\n",
              "Seattle, WA                   5\n",
              "Montreal                      5\n",
              "CA                            5\n",
              "Texas                         5\n",
              "Name: Location, dtype: int64"
            ]
          },
          "metadata": {},
          "execution_count": 72
        }
      ],
      "source": [
        "data.Location.value_counts()[data.Location.value_counts() >= 5]"
      ]
    },
    {
      "cell_type": "markdown",
      "metadata": {
        "id": "OVFuJwk3-ns9"
      },
      "source": [
        "## Looking for Non ASCII lines in reviews"
      ]
    },
    {
      "cell_type": "code",
      "execution_count": 73,
      "metadata": {
        "id": "1B3ffh9w-ns-"
      },
      "outputs": [],
      "source": [
        "# Finding Japanese comments or non-ascii\n",
        "\n",
        "NON_ASCII = [a.isascii() for a in data.Review]\n",
        "NON_ASCII = pd.Series(NON_ASCII)"
      ]
    },
    {
      "cell_type": "code",
      "execution_count": 74,
      "metadata": {
        "colab": {
          "base_uri": "https://localhost:8080/",
          "height": 424
        },
        "id": "WV1onleV-ntA",
        "outputId": "a84eabc7-6e5a-4588-db56-9352dbcfa62a"
      },
      "outputs": [
        {
          "output_type": "execute_result",
          "data": {
            "text/plain": [
              "                                                 Review        date  \\\n",
              "8     My wife and I loved everything about it. It’s ...  2019/08/19   \n",
              "10    Very clean and friendly and I love the locatio...  2019/08/19   \n",
              "18    It was great for what we needed, a place to sl...  2019/08/19   \n",
              "21    The room is tiny. The building is old and worn...  2019/08/18   \n",
              "23    基本的に問題なしでした。\\n 清潔で防音も普通な方で、水回りも清潔でシャワーの水圧も問題なし...  2019/08/18   \n",
              "...                                                 ...         ...   \n",
              "6388  ·the staff were all so friendly. frank, the ch...  2019/07/12   \n",
              "6389         ·the internet barely worked or didn't work  2019/07/12   \n",
              "6390  ·the location was great.\\n \\n \\n \\n \\n ·the be...  2019/07/10   \n",
              "6391  ·we were early for check in and the staff was ...  2019/07/10   \n",
              "6392  ·staff, free coffee, location and activities.\\...  2019/07/10   \n",
              "\n",
              "                      Location  \n",
              "8                          NaN  \n",
              "10                  California  \n",
              "18                         NaN  \n",
              "21                         NaN  \n",
              "23                         NaN  \n",
              "...                        ...  \n",
              "6388  United States of America  \n",
              "6389  United States of America  \n",
              "6390  United States of America  \n",
              "6391  United States of America  \n",
              "6392  United States of America  \n",
              "\n",
              "[2003 rows x 3 columns]"
            ],
            "text/html": [
              "\n",
              "  <div id=\"df-68fe86e8-1b74-4c05-a0d5-6a6c900ebee0\">\n",
              "    <div class=\"colab-df-container\">\n",
              "      <div>\n",
              "<style scoped>\n",
              "    .dataframe tbody tr th:only-of-type {\n",
              "        vertical-align: middle;\n",
              "    }\n",
              "\n",
              "    .dataframe tbody tr th {\n",
              "        vertical-align: top;\n",
              "    }\n",
              "\n",
              "    .dataframe thead th {\n",
              "        text-align: right;\n",
              "    }\n",
              "</style>\n",
              "<table border=\"1\" class=\"dataframe\">\n",
              "  <thead>\n",
              "    <tr style=\"text-align: right;\">\n",
              "      <th></th>\n",
              "      <th>Review</th>\n",
              "      <th>date</th>\n",
              "      <th>Location</th>\n",
              "    </tr>\n",
              "  </thead>\n",
              "  <tbody>\n",
              "    <tr>\n",
              "      <th>8</th>\n",
              "      <td>My wife and I loved everything about it. It’s ...</td>\n",
              "      <td>2019/08/19</td>\n",
              "      <td>NaN</td>\n",
              "    </tr>\n",
              "    <tr>\n",
              "      <th>10</th>\n",
              "      <td>Very clean and friendly and I love the locatio...</td>\n",
              "      <td>2019/08/19</td>\n",
              "      <td>California</td>\n",
              "    </tr>\n",
              "    <tr>\n",
              "      <th>18</th>\n",
              "      <td>It was great for what we needed, a place to sl...</td>\n",
              "      <td>2019/08/19</td>\n",
              "      <td>NaN</td>\n",
              "    </tr>\n",
              "    <tr>\n",
              "      <th>21</th>\n",
              "      <td>The room is tiny. The building is old and worn...</td>\n",
              "      <td>2019/08/18</td>\n",
              "      <td>NaN</td>\n",
              "    </tr>\n",
              "    <tr>\n",
              "      <th>23</th>\n",
              "      <td>基本的に問題なしでした。\\n 清潔で防音も普通な方で、水回りも清潔でシャワーの水圧も問題なし...</td>\n",
              "      <td>2019/08/18</td>\n",
              "      <td>NaN</td>\n",
              "    </tr>\n",
              "    <tr>\n",
              "      <th>...</th>\n",
              "      <td>...</td>\n",
              "      <td>...</td>\n",
              "      <td>...</td>\n",
              "    </tr>\n",
              "    <tr>\n",
              "      <th>6388</th>\n",
              "      <td>·the staff were all so friendly. frank, the ch...</td>\n",
              "      <td>2019/07/12</td>\n",
              "      <td>United States of America</td>\n",
              "    </tr>\n",
              "    <tr>\n",
              "      <th>6389</th>\n",
              "      <td>·the internet barely worked or didn't work</td>\n",
              "      <td>2019/07/12</td>\n",
              "      <td>United States of America</td>\n",
              "    </tr>\n",
              "    <tr>\n",
              "      <th>6390</th>\n",
              "      <td>·the location was great.\\n \\n \\n \\n \\n ·the be...</td>\n",
              "      <td>2019/07/10</td>\n",
              "      <td>United States of America</td>\n",
              "    </tr>\n",
              "    <tr>\n",
              "      <th>6391</th>\n",
              "      <td>·we were early for check in and the staff was ...</td>\n",
              "      <td>2019/07/10</td>\n",
              "      <td>United States of America</td>\n",
              "    </tr>\n",
              "    <tr>\n",
              "      <th>6392</th>\n",
              "      <td>·staff, free coffee, location and activities.\\...</td>\n",
              "      <td>2019/07/10</td>\n",
              "      <td>United States of America</td>\n",
              "    </tr>\n",
              "  </tbody>\n",
              "</table>\n",
              "<p>2003 rows × 3 columns</p>\n",
              "</div>\n",
              "      <button class=\"colab-df-convert\" onclick=\"convertToInteractive('df-68fe86e8-1b74-4c05-a0d5-6a6c900ebee0')\"\n",
              "              title=\"Convert this dataframe to an interactive table.\"\n",
              "              style=\"display:none;\">\n",
              "        \n",
              "  <svg xmlns=\"http://www.w3.org/2000/svg\" height=\"24px\"viewBox=\"0 0 24 24\"\n",
              "       width=\"24px\">\n",
              "    <path d=\"M0 0h24v24H0V0z\" fill=\"none\"/>\n",
              "    <path d=\"M18.56 5.44l.94 2.06.94-2.06 2.06-.94-2.06-.94-.94-2.06-.94 2.06-2.06.94zm-11 1L8.5 8.5l.94-2.06 2.06-.94-2.06-.94L8.5 2.5l-.94 2.06-2.06.94zm10 10l.94 2.06.94-2.06 2.06-.94-2.06-.94-.94-2.06-.94 2.06-2.06.94z\"/><path d=\"M17.41 7.96l-1.37-1.37c-.4-.4-.92-.59-1.43-.59-.52 0-1.04.2-1.43.59L10.3 9.45l-7.72 7.72c-.78.78-.78 2.05 0 2.83L4 21.41c.39.39.9.59 1.41.59.51 0 1.02-.2 1.41-.59l7.78-7.78 2.81-2.81c.8-.78.8-2.07 0-2.86zM5.41 20L4 18.59l7.72-7.72 1.47 1.35L5.41 20z\"/>\n",
              "  </svg>\n",
              "      </button>\n",
              "      \n",
              "  <style>\n",
              "    .colab-df-container {\n",
              "      display:flex;\n",
              "      flex-wrap:wrap;\n",
              "      gap: 12px;\n",
              "    }\n",
              "\n",
              "    .colab-df-convert {\n",
              "      background-color: #E8F0FE;\n",
              "      border: none;\n",
              "      border-radius: 50%;\n",
              "      cursor: pointer;\n",
              "      display: none;\n",
              "      fill: #1967D2;\n",
              "      height: 32px;\n",
              "      padding: 0 0 0 0;\n",
              "      width: 32px;\n",
              "    }\n",
              "\n",
              "    .colab-df-convert:hover {\n",
              "      background-color: #E2EBFA;\n",
              "      box-shadow: 0px 1px 2px rgba(60, 64, 67, 0.3), 0px 1px 3px 1px rgba(60, 64, 67, 0.15);\n",
              "      fill: #174EA6;\n",
              "    }\n",
              "\n",
              "    [theme=dark] .colab-df-convert {\n",
              "      background-color: #3B4455;\n",
              "      fill: #D2E3FC;\n",
              "    }\n",
              "\n",
              "    [theme=dark] .colab-df-convert:hover {\n",
              "      background-color: #434B5C;\n",
              "      box-shadow: 0px 1px 3px 1px rgba(0, 0, 0, 0.15);\n",
              "      filter: drop-shadow(0px 1px 2px rgba(0, 0, 0, 0.3));\n",
              "      fill: #FFFFFF;\n",
              "    }\n",
              "  </style>\n",
              "\n",
              "      <script>\n",
              "        const buttonEl =\n",
              "          document.querySelector('#df-68fe86e8-1b74-4c05-a0d5-6a6c900ebee0 button.colab-df-convert');\n",
              "        buttonEl.style.display =\n",
              "          google.colab.kernel.accessAllowed ? 'block' : 'none';\n",
              "\n",
              "        async function convertToInteractive(key) {\n",
              "          const element = document.querySelector('#df-68fe86e8-1b74-4c05-a0d5-6a6c900ebee0');\n",
              "          const dataTable =\n",
              "            await google.colab.kernel.invokeFunction('convertToInteractive',\n",
              "                                                     [key], {});\n",
              "          if (!dataTable) return;\n",
              "\n",
              "          const docLinkHtml = 'Like what you see? Visit the ' +\n",
              "            '<a target=\"_blank\" href=https://colab.research.google.com/notebooks/data_table.ipynb>data table notebook</a>'\n",
              "            + ' to learn more about interactive tables.';\n",
              "          element.innerHTML = '';\n",
              "          dataTable['output_type'] = 'display_data';\n",
              "          await google.colab.output.renderOutput(dataTable, element);\n",
              "          const docLink = document.createElement('div');\n",
              "          docLink.innerHTML = docLinkHtml;\n",
              "          element.appendChild(docLink);\n",
              "        }\n",
              "      </script>\n",
              "    </div>\n",
              "  </div>\n",
              "  "
            ]
          },
          "metadata": {},
          "execution_count": 74
        }
      ],
      "source": [
        "data[NON_ASCII == False]"
      ]
    },
    {
      "cell_type": "code",
      "execution_count": 75,
      "metadata": {
        "colab": {
          "base_uri": "https://localhost:8080/"
        },
        "id": "RZncthq5-ntC",
        "outputId": "351122ae-db65-4417-f175-7087f843cade"
      },
      "outputs": [
        {
          "output_type": "execute_result",
          "data": {
            "text/plain": [
              "True     4390\n",
              "False    2003\n",
              "dtype: int64"
            ]
          },
          "metadata": {},
          "execution_count": 75
        }
      ],
      "source": [
        "NON_ASCII.value_counts()"
      ]
    },
    {
      "cell_type": "markdown",
      "metadata": {
        "id": "NWB75aPA-ntE"
      },
      "source": [
        "# Data Cleaning"
      ]
    },
    {
      "cell_type": "markdown",
      "metadata": {
        "id": "TsBbpEBW-ntF"
      },
      "source": [
        "First of all we have to clean the dataset and then after we go for visualization and exploration.\n",
        "\n",
        "We need to perform following tasks\n",
        "1. Remove new lines\n",
        "2. Remore \"Read more\" and \"Read less\"\n"
      ]
    },
    {
      "cell_type": "code",
      "execution_count": 76,
      "metadata": {
        "id": "DEAowbSE-ntI"
      },
      "outputs": [],
      "source": [
        "def data_cleaning(strn):\n",
        "    '''\n",
        "    This function removes following things:\n",
        "    - Remove emojis\n",
        "    - Remove excessive blank spaces\n",
        "    \n",
        "    '''\n",
        "    punct = '''!()-[]{};:'\"\\,<>./?@#$%^&*_~'''\n",
        "    strn = strn.encode('ascii', 'ignore').decode('ascii')\n",
        "    strn = re.sub(r'http\\S+\\s*', '', strn)\n",
        "    strn = re.sub(r'[#@]\\w', '', strn)\n",
        "    strn = strn.replace('\\n', '')\n",
        "    strn = strn.replace('Read more', '')\n",
        "    strn = strn.replace('Read less', '')\n",
        "    strn = re.sub(r' {2,}', ' ', strn)\n",
        "    \n",
        "    # strn = strn.replace('.', '') if strn[0][0] == '.' else strn\n",
        "    strn = strn.strip()\n",
        "    return strn\n"
      ]
    },
    {
      "cell_type": "code",
      "execution_count": 77,
      "metadata": {
        "id": "okIVOLt8-ntL"
      },
      "outputs": [],
      "source": [
        "data['Review']=data['Review'].apply(data_cleaning).values"
      ]
    },
    {
      "cell_type": "code",
      "execution_count": 78,
      "metadata": {
        "colab": {
          "base_uri": "https://localhost:8080/"
        },
        "id": "DzahsnsQ-ntM",
        "outputId": "a805ff70-4937-419c-96e3-cc43eeaaec3a"
      },
      "outputs": [
        {
          "output_type": "execute_result",
          "data": {
            "text/plain": [
              "array(['I was very impressed with the resort. Great staff at the main resort pool bar! We had a blast with them. Clean, professional staff, great location and very reasonable!',\n",
              "       'The rooms were nice the outside needs work also no free breakfast it would have been nice overall it was ok',\n",
              "       'Great location! I have stayed at this hotel on my last three trips to New York.',\n",
              "       'The hotel was adequate for my stay. The strips in the bathtub were useless as I fell while taking a shower. I asked the front desk staff several times to get a bath mat but they never did. Management was unresponsive to my request which was very poor; someone should have gone to a dollar store and gotten a bath mat. Breakfast was good but it would have been nice to have had yogurt and/or cottage cheese on the buffet.',\n",
              "       'Great location, room was large and spacious. Parking was easy and we appreciated the friendly staff',\n",
              "       'All the options for fun were great! Do wish there were a better policy on the lazy river floats. Lots of people Hoarding them.',\n",
              "       'Old. Musty. Motel. Bath need an update asap !!!!!!',\n",
              "       'Loved the layout of the hotel and the relaxing pool area. Only con was housekeeping/maintenance staff passing the room with carts and speaking loudly on radios at 7-7:30 am.',\n",
              "       'My wife and I loved everything about it. Its close to everything and everywhere. We will be recommending to others and we will definitely be back.',\n",
              "       'rooms were very small, was told i had a complimentary upgrade to a empire state building view room but it was a regular room, everything else was ok.'],\n",
              "      dtype=object)"
            ]
          },
          "metadata": {},
          "execution_count": 78
        }
      ],
      "source": [
        "data.Review.values[:10]"
      ]
    },
    {
      "cell_type": "markdown",
      "metadata": {
        "id": "417xr3QL-ntN"
      },
      "source": [
        "> Now the dataset is almost ready and clean\n",
        ">\n",
        "> Only one thing is to remove is Punctuation marks"
      ]
    },
    {
      "cell_type": "code",
      "execution_count": 79,
      "metadata": {
        "colab": {
          "base_uri": "https://localhost:8080/"
        },
        "id": "M0OOgZho-ntO",
        "outputId": "b2a2190c-f7d9-4fb7-c700-da3a6d4cc615"
      },
      "outputs": [
        {
          "output_type": "execute_result",
          "data": {
            "text/plain": [
              "Review         0\n",
              "date           0\n",
              "Location    4688\n",
              "dtype: int64"
            ]
          },
          "metadata": {},
          "execution_count": 79
        }
      ],
      "source": [
        "data.isnull().sum()"
      ]
    },
    {
      "cell_type": "code",
      "execution_count": 80,
      "metadata": {
        "colab": {
          "base_uri": "https://localhost:8080/",
          "height": 1000
        },
        "id": "MIOdKMa--ntQ",
        "outputId": "bb1bd72e-c02c-4c95-d33b-b90f74260811"
      },
      "outputs": [
        {
          "output_type": "execute_result",
          "data": {
            "text/plain": [
              "     Review        date         Location\n",
              "23           2019/08/18              NaN\n",
              "311          2019/07/20              NaN\n",
              "505          2019/07/05              NaN\n",
              "693          2019/06/15               大阪\n",
              "723          2019/06/10               東京\n",
              "1026         2019/05/12              NaN\n",
              "1073         2019/05/08              NaN\n",
              "1111         2019/05/05              NaN\n",
              "1129         2019/05/04              NaN\n",
              "1258         2019/04/26            JAPAN\n",
              "1390         2019/04/19              NaN\n",
              "1636         2019/04/05              NaN\n",
              "2027         2019/03/17              NaN\n",
              "2038         2019/03/16              NaN\n",
              "2051         2019/03/14              NaN\n",
              "2121         2019/03/10              NaN\n",
              "2195         2019/03/05              NaN\n",
              "2306          2019/2/25              NaN\n",
              "2333          2019/2/23              NaN\n",
              "2516           2019/2/7              NaN\n",
              "2607         2019/01/30              NaN\n",
              "2683         2019/01/24              NaN\n",
              "2818          2019/1/13              NaN\n",
              "2886           2019/1/8       nagoya, jp\n",
              "3171         2018/12/26              NaN\n",
              "3651         2018/11/28              NaN\n",
              "3670         2018/11/27              NaN\n",
              "3831         2018/11/18              NaN\n",
              "3974         2018/11/09              NaN\n",
              "4077         2018/10/31              NaN\n",
              "4155         2018/10/27              NaN\n",
              "4445         2018/10/05              NaN\n",
              "4750         2018/09/12              NaN\n",
              "4774         2018/09/10              NaN\n",
              "5009         2018/08/25              NaN\n",
              "5051         2018/08/23  Shizuoka, Japan\n",
              "5064         2018/08/21              NaN\n",
              "5258         2018/08/06              NaN\n",
              "5273         2018/08/05              NaN\n",
              "6354         2019/07/20           Kuwait"
            ],
            "text/html": [
              "\n",
              "  <div id=\"df-83132fed-c3b4-4811-afbc-22883d2482f8\">\n",
              "    <div class=\"colab-df-container\">\n",
              "      <div>\n",
              "<style scoped>\n",
              "    .dataframe tbody tr th:only-of-type {\n",
              "        vertical-align: middle;\n",
              "    }\n",
              "\n",
              "    .dataframe tbody tr th {\n",
              "        vertical-align: top;\n",
              "    }\n",
              "\n",
              "    .dataframe thead th {\n",
              "        text-align: right;\n",
              "    }\n",
              "</style>\n",
              "<table border=\"1\" class=\"dataframe\">\n",
              "  <thead>\n",
              "    <tr style=\"text-align: right;\">\n",
              "      <th></th>\n",
              "      <th>Review</th>\n",
              "      <th>date</th>\n",
              "      <th>Location</th>\n",
              "    </tr>\n",
              "  </thead>\n",
              "  <tbody>\n",
              "    <tr>\n",
              "      <th>23</th>\n",
              "      <td></td>\n",
              "      <td>2019/08/18</td>\n",
              "      <td>NaN</td>\n",
              "    </tr>\n",
              "    <tr>\n",
              "      <th>311</th>\n",
              "      <td></td>\n",
              "      <td>2019/07/20</td>\n",
              "      <td>NaN</td>\n",
              "    </tr>\n",
              "    <tr>\n",
              "      <th>505</th>\n",
              "      <td></td>\n",
              "      <td>2019/07/05</td>\n",
              "      <td>NaN</td>\n",
              "    </tr>\n",
              "    <tr>\n",
              "      <th>693</th>\n",
              "      <td></td>\n",
              "      <td>2019/06/15</td>\n",
              "      <td>大阪</td>\n",
              "    </tr>\n",
              "    <tr>\n",
              "      <th>723</th>\n",
              "      <td></td>\n",
              "      <td>2019/06/10</td>\n",
              "      <td>東京</td>\n",
              "    </tr>\n",
              "    <tr>\n",
              "      <th>1026</th>\n",
              "      <td></td>\n",
              "      <td>2019/05/12</td>\n",
              "      <td>NaN</td>\n",
              "    </tr>\n",
              "    <tr>\n",
              "      <th>1073</th>\n",
              "      <td></td>\n",
              "      <td>2019/05/08</td>\n",
              "      <td>NaN</td>\n",
              "    </tr>\n",
              "    <tr>\n",
              "      <th>1111</th>\n",
              "      <td></td>\n",
              "      <td>2019/05/05</td>\n",
              "      <td>NaN</td>\n",
              "    </tr>\n",
              "    <tr>\n",
              "      <th>1129</th>\n",
              "      <td></td>\n",
              "      <td>2019/05/04</td>\n",
              "      <td>NaN</td>\n",
              "    </tr>\n",
              "    <tr>\n",
              "      <th>1258</th>\n",
              "      <td></td>\n",
              "      <td>2019/04/26</td>\n",
              "      <td>JAPAN</td>\n",
              "    </tr>\n",
              "    <tr>\n",
              "      <th>1390</th>\n",
              "      <td></td>\n",
              "      <td>2019/04/19</td>\n",
              "      <td>NaN</td>\n",
              "    </tr>\n",
              "    <tr>\n",
              "      <th>1636</th>\n",
              "      <td></td>\n",
              "      <td>2019/04/05</td>\n",
              "      <td>NaN</td>\n",
              "    </tr>\n",
              "    <tr>\n",
              "      <th>2027</th>\n",
              "      <td></td>\n",
              "      <td>2019/03/17</td>\n",
              "      <td>NaN</td>\n",
              "    </tr>\n",
              "    <tr>\n",
              "      <th>2038</th>\n",
              "      <td></td>\n",
              "      <td>2019/03/16</td>\n",
              "      <td>NaN</td>\n",
              "    </tr>\n",
              "    <tr>\n",
              "      <th>2051</th>\n",
              "      <td></td>\n",
              "      <td>2019/03/14</td>\n",
              "      <td>NaN</td>\n",
              "    </tr>\n",
              "    <tr>\n",
              "      <th>2121</th>\n",
              "      <td></td>\n",
              "      <td>2019/03/10</td>\n",
              "      <td>NaN</td>\n",
              "    </tr>\n",
              "    <tr>\n",
              "      <th>2195</th>\n",
              "      <td></td>\n",
              "      <td>2019/03/05</td>\n",
              "      <td>NaN</td>\n",
              "    </tr>\n",
              "    <tr>\n",
              "      <th>2306</th>\n",
              "      <td></td>\n",
              "      <td>2019/2/25</td>\n",
              "      <td>NaN</td>\n",
              "    </tr>\n",
              "    <tr>\n",
              "      <th>2333</th>\n",
              "      <td></td>\n",
              "      <td>2019/2/23</td>\n",
              "      <td>NaN</td>\n",
              "    </tr>\n",
              "    <tr>\n",
              "      <th>2516</th>\n",
              "      <td></td>\n",
              "      <td>2019/2/7</td>\n",
              "      <td>NaN</td>\n",
              "    </tr>\n",
              "    <tr>\n",
              "      <th>2607</th>\n",
              "      <td></td>\n",
              "      <td>2019/01/30</td>\n",
              "      <td>NaN</td>\n",
              "    </tr>\n",
              "    <tr>\n",
              "      <th>2683</th>\n",
              "      <td></td>\n",
              "      <td>2019/01/24</td>\n",
              "      <td>NaN</td>\n",
              "    </tr>\n",
              "    <tr>\n",
              "      <th>2818</th>\n",
              "      <td></td>\n",
              "      <td>2019/1/13</td>\n",
              "      <td>NaN</td>\n",
              "    </tr>\n",
              "    <tr>\n",
              "      <th>2886</th>\n",
              "      <td></td>\n",
              "      <td>2019/1/8</td>\n",
              "      <td>nagoya, jp</td>\n",
              "    </tr>\n",
              "    <tr>\n",
              "      <th>3171</th>\n",
              "      <td></td>\n",
              "      <td>2018/12/26</td>\n",
              "      <td>NaN</td>\n",
              "    </tr>\n",
              "    <tr>\n",
              "      <th>3651</th>\n",
              "      <td></td>\n",
              "      <td>2018/11/28</td>\n",
              "      <td>NaN</td>\n",
              "    </tr>\n",
              "    <tr>\n",
              "      <th>3670</th>\n",
              "      <td></td>\n",
              "      <td>2018/11/27</td>\n",
              "      <td>NaN</td>\n",
              "    </tr>\n",
              "    <tr>\n",
              "      <th>3831</th>\n",
              "      <td></td>\n",
              "      <td>2018/11/18</td>\n",
              "      <td>NaN</td>\n",
              "    </tr>\n",
              "    <tr>\n",
              "      <th>3974</th>\n",
              "      <td></td>\n",
              "      <td>2018/11/09</td>\n",
              "      <td>NaN</td>\n",
              "    </tr>\n",
              "    <tr>\n",
              "      <th>4077</th>\n",
              "      <td></td>\n",
              "      <td>2018/10/31</td>\n",
              "      <td>NaN</td>\n",
              "    </tr>\n",
              "    <tr>\n",
              "      <th>4155</th>\n",
              "      <td></td>\n",
              "      <td>2018/10/27</td>\n",
              "      <td>NaN</td>\n",
              "    </tr>\n",
              "    <tr>\n",
              "      <th>4445</th>\n",
              "      <td></td>\n",
              "      <td>2018/10/05</td>\n",
              "      <td>NaN</td>\n",
              "    </tr>\n",
              "    <tr>\n",
              "      <th>4750</th>\n",
              "      <td></td>\n",
              "      <td>2018/09/12</td>\n",
              "      <td>NaN</td>\n",
              "    </tr>\n",
              "    <tr>\n",
              "      <th>4774</th>\n",
              "      <td></td>\n",
              "      <td>2018/09/10</td>\n",
              "      <td>NaN</td>\n",
              "    </tr>\n",
              "    <tr>\n",
              "      <th>5009</th>\n",
              "      <td></td>\n",
              "      <td>2018/08/25</td>\n",
              "      <td>NaN</td>\n",
              "    </tr>\n",
              "    <tr>\n",
              "      <th>5051</th>\n",
              "      <td></td>\n",
              "      <td>2018/08/23</td>\n",
              "      <td>Shizuoka, Japan</td>\n",
              "    </tr>\n",
              "    <tr>\n",
              "      <th>5064</th>\n",
              "      <td></td>\n",
              "      <td>2018/08/21</td>\n",
              "      <td>NaN</td>\n",
              "    </tr>\n",
              "    <tr>\n",
              "      <th>5258</th>\n",
              "      <td></td>\n",
              "      <td>2018/08/06</td>\n",
              "      <td>NaN</td>\n",
              "    </tr>\n",
              "    <tr>\n",
              "      <th>5273</th>\n",
              "      <td></td>\n",
              "      <td>2018/08/05</td>\n",
              "      <td>NaN</td>\n",
              "    </tr>\n",
              "    <tr>\n",
              "      <th>6354</th>\n",
              "      <td></td>\n",
              "      <td>2019/07/20</td>\n",
              "      <td>Kuwait</td>\n",
              "    </tr>\n",
              "  </tbody>\n",
              "</table>\n",
              "</div>\n",
              "      <button class=\"colab-df-convert\" onclick=\"convertToInteractive('df-83132fed-c3b4-4811-afbc-22883d2482f8')\"\n",
              "              title=\"Convert this dataframe to an interactive table.\"\n",
              "              style=\"display:none;\">\n",
              "        \n",
              "  <svg xmlns=\"http://www.w3.org/2000/svg\" height=\"24px\"viewBox=\"0 0 24 24\"\n",
              "       width=\"24px\">\n",
              "    <path d=\"M0 0h24v24H0V0z\" fill=\"none\"/>\n",
              "    <path d=\"M18.56 5.44l.94 2.06.94-2.06 2.06-.94-2.06-.94-.94-2.06-.94 2.06-2.06.94zm-11 1L8.5 8.5l.94-2.06 2.06-.94-2.06-.94L8.5 2.5l-.94 2.06-2.06.94zm10 10l.94 2.06.94-2.06 2.06-.94-2.06-.94-.94-2.06-.94 2.06-2.06.94z\"/><path d=\"M17.41 7.96l-1.37-1.37c-.4-.4-.92-.59-1.43-.59-.52 0-1.04.2-1.43.59L10.3 9.45l-7.72 7.72c-.78.78-.78 2.05 0 2.83L4 21.41c.39.39.9.59 1.41.59.51 0 1.02-.2 1.41-.59l7.78-7.78 2.81-2.81c.8-.78.8-2.07 0-2.86zM5.41 20L4 18.59l7.72-7.72 1.47 1.35L5.41 20z\"/>\n",
              "  </svg>\n",
              "      </button>\n",
              "      \n",
              "  <style>\n",
              "    .colab-df-container {\n",
              "      display:flex;\n",
              "      flex-wrap:wrap;\n",
              "      gap: 12px;\n",
              "    }\n",
              "\n",
              "    .colab-df-convert {\n",
              "      background-color: #E8F0FE;\n",
              "      border: none;\n",
              "      border-radius: 50%;\n",
              "      cursor: pointer;\n",
              "      display: none;\n",
              "      fill: #1967D2;\n",
              "      height: 32px;\n",
              "      padding: 0 0 0 0;\n",
              "      width: 32px;\n",
              "    }\n",
              "\n",
              "    .colab-df-convert:hover {\n",
              "      background-color: #E2EBFA;\n",
              "      box-shadow: 0px 1px 2px rgba(60, 64, 67, 0.3), 0px 1px 3px 1px rgba(60, 64, 67, 0.15);\n",
              "      fill: #174EA6;\n",
              "    }\n",
              "\n",
              "    [theme=dark] .colab-df-convert {\n",
              "      background-color: #3B4455;\n",
              "      fill: #D2E3FC;\n",
              "    }\n",
              "\n",
              "    [theme=dark] .colab-df-convert:hover {\n",
              "      background-color: #434B5C;\n",
              "      box-shadow: 0px 1px 3px 1px rgba(0, 0, 0, 0.15);\n",
              "      filter: drop-shadow(0px 1px 2px rgba(0, 0, 0, 0.3));\n",
              "      fill: #FFFFFF;\n",
              "    }\n",
              "  </style>\n",
              "\n",
              "      <script>\n",
              "        const buttonEl =\n",
              "          document.querySelector('#df-83132fed-c3b4-4811-afbc-22883d2482f8 button.colab-df-convert');\n",
              "        buttonEl.style.display =\n",
              "          google.colab.kernel.accessAllowed ? 'block' : 'none';\n",
              "\n",
              "        async function convertToInteractive(key) {\n",
              "          const element = document.querySelector('#df-83132fed-c3b4-4811-afbc-22883d2482f8');\n",
              "          const dataTable =\n",
              "            await google.colab.kernel.invokeFunction('convertToInteractive',\n",
              "                                                     [key], {});\n",
              "          if (!dataTable) return;\n",
              "\n",
              "          const docLinkHtml = 'Like what you see? Visit the ' +\n",
              "            '<a target=\"_blank\" href=https://colab.research.google.com/notebooks/data_table.ipynb>data table notebook</a>'\n",
              "            + ' to learn more about interactive tables.';\n",
              "          element.innerHTML = '';\n",
              "          dataTable['output_type'] = 'display_data';\n",
              "          await google.colab.output.renderOutput(dataTable, element);\n",
              "          const docLink = document.createElement('div');\n",
              "          docLink.innerHTML = docLinkHtml;\n",
              "          element.appendChild(docLink);\n",
              "        }\n",
              "      </script>\n",
              "    </div>\n",
              "  </div>\n",
              "  "
            ]
          },
          "metadata": {},
          "execution_count": 80
        }
      ],
      "source": [
        "data[data.Review == '']"
      ]
    },
    {
      "cell_type": "code",
      "execution_count": 81,
      "metadata": {
        "colab": {
          "base_uri": "https://localhost:8080/"
        },
        "id": "PBfYKOlI-ntR",
        "outputId": "f1d3fee7-56ea-45a0-8f37-ae10432e5546"
      },
      "outputs": [
        {
          "output_type": "execute_result",
          "data": {
            "text/plain": [
              "Review  date        Location       \n",
              "        2018/08/23  Shizuoka, Japan    1\n",
              "        2019/04/26  JAPAN              1\n",
              "        2019/06/10  東京                 1\n",
              "        2019/06/15  大阪                 1\n",
              "        2019/07/20  Kuwait             1\n",
              "        2019/1/8    nagoya, jp         1\n",
              "dtype: int64"
            ]
          },
          "metadata": {},
          "execution_count": 81
        }
      ],
      "source": [
        "data[data.Review == ''].value_counts()"
      ]
    },
    {
      "cell_type": "markdown",
      "metadata": {
        "id": "l8EMxC-S-ntT"
      },
      "source": [
        "As You can see all Non-English comments are blank to lets remove them"
      ]
    },
    {
      "cell_type": "code",
      "execution_count": 82,
      "metadata": {
        "id": "Z-4zQrBs-ntU"
      },
      "outputs": [],
      "source": [
        "data = data[data.Review != '']"
      ]
    },
    {
      "cell_type": "code",
      "execution_count": 83,
      "metadata": {
        "id": "5_YvDnAf-ntX"
      },
      "outputs": [],
      "source": [
        "data.reset_index(inplace= True, drop = True)"
      ]
    },
    {
      "cell_type": "code",
      "execution_count": 84,
      "metadata": {
        "colab": {
          "base_uri": "https://localhost:8080/",
          "height": 424
        },
        "id": "V0Yl7eQ_-ntZ",
        "outputId": "21abedce-5725-49da-a589-376bd511d21c"
      },
      "outputs": [
        {
          "output_type": "execute_result",
          "data": {
            "text/plain": [
              "                                                 Review        date  \\\n",
              "0     I was very impressed with the resort. Great st...  2019/08/20   \n",
              "1     The rooms were nice the outside needs work als...  2019/08/20   \n",
              "2     Great location! I have stayed at this hotel on...  2019/08/20   \n",
              "3     The hotel was adequate for my stay. The strips...  2019/08/20   \n",
              "4     Great location, room was large and spacious. P...  2019/08/19   \n",
              "...                                                 ...         ...   \n",
              "6348  the staff were all so friendly. frank, the che...  2019/07/12   \n",
              "6349          the internet barely worked or didn't work  2019/07/12   \n",
              "6350  the location was great. the bed was the most u...  2019/07/10   \n",
              "6351  we were early for check in and the staff was v...  2019/07/10   \n",
              "6352  staff, free coffee, location and activities. t...  2019/07/10   \n",
              "\n",
              "                      Location  \n",
              "0                    Sebastian  \n",
              "1                  Los Angeles  \n",
              "2                      Georgia  \n",
              "3                          NaN  \n",
              "4                  Palm Harbor  \n",
              "...                        ...  \n",
              "6348  United States of America  \n",
              "6349  United States of America  \n",
              "6350  United States of America  \n",
              "6351  United States of America  \n",
              "6352  United States of America  \n",
              "\n",
              "[6353 rows x 3 columns]"
            ],
            "text/html": [
              "\n",
              "  <div id=\"df-2572f057-1551-488c-b878-9384d5a4b887\">\n",
              "    <div class=\"colab-df-container\">\n",
              "      <div>\n",
              "<style scoped>\n",
              "    .dataframe tbody tr th:only-of-type {\n",
              "        vertical-align: middle;\n",
              "    }\n",
              "\n",
              "    .dataframe tbody tr th {\n",
              "        vertical-align: top;\n",
              "    }\n",
              "\n",
              "    .dataframe thead th {\n",
              "        text-align: right;\n",
              "    }\n",
              "</style>\n",
              "<table border=\"1\" class=\"dataframe\">\n",
              "  <thead>\n",
              "    <tr style=\"text-align: right;\">\n",
              "      <th></th>\n",
              "      <th>Review</th>\n",
              "      <th>date</th>\n",
              "      <th>Location</th>\n",
              "    </tr>\n",
              "  </thead>\n",
              "  <tbody>\n",
              "    <tr>\n",
              "      <th>0</th>\n",
              "      <td>I was very impressed with the resort. Great st...</td>\n",
              "      <td>2019/08/20</td>\n",
              "      <td>Sebastian</td>\n",
              "    </tr>\n",
              "    <tr>\n",
              "      <th>1</th>\n",
              "      <td>The rooms were nice the outside needs work als...</td>\n",
              "      <td>2019/08/20</td>\n",
              "      <td>Los Angeles</td>\n",
              "    </tr>\n",
              "    <tr>\n",
              "      <th>2</th>\n",
              "      <td>Great location! I have stayed at this hotel on...</td>\n",
              "      <td>2019/08/20</td>\n",
              "      <td>Georgia</td>\n",
              "    </tr>\n",
              "    <tr>\n",
              "      <th>3</th>\n",
              "      <td>The hotel was adequate for my stay. The strips...</td>\n",
              "      <td>2019/08/20</td>\n",
              "      <td>NaN</td>\n",
              "    </tr>\n",
              "    <tr>\n",
              "      <th>4</th>\n",
              "      <td>Great location, room was large and spacious. P...</td>\n",
              "      <td>2019/08/19</td>\n",
              "      <td>Palm Harbor</td>\n",
              "    </tr>\n",
              "    <tr>\n",
              "      <th>...</th>\n",
              "      <td>...</td>\n",
              "      <td>...</td>\n",
              "      <td>...</td>\n",
              "    </tr>\n",
              "    <tr>\n",
              "      <th>6348</th>\n",
              "      <td>the staff were all so friendly. frank, the che...</td>\n",
              "      <td>2019/07/12</td>\n",
              "      <td>United States of America</td>\n",
              "    </tr>\n",
              "    <tr>\n",
              "      <th>6349</th>\n",
              "      <td>the internet barely worked or didn't work</td>\n",
              "      <td>2019/07/12</td>\n",
              "      <td>United States of America</td>\n",
              "    </tr>\n",
              "    <tr>\n",
              "      <th>6350</th>\n",
              "      <td>the location was great. the bed was the most u...</td>\n",
              "      <td>2019/07/10</td>\n",
              "      <td>United States of America</td>\n",
              "    </tr>\n",
              "    <tr>\n",
              "      <th>6351</th>\n",
              "      <td>we were early for check in and the staff was v...</td>\n",
              "      <td>2019/07/10</td>\n",
              "      <td>United States of America</td>\n",
              "    </tr>\n",
              "    <tr>\n",
              "      <th>6352</th>\n",
              "      <td>staff, free coffee, location and activities. t...</td>\n",
              "      <td>2019/07/10</td>\n",
              "      <td>United States of America</td>\n",
              "    </tr>\n",
              "  </tbody>\n",
              "</table>\n",
              "<p>6353 rows × 3 columns</p>\n",
              "</div>\n",
              "      <button class=\"colab-df-convert\" onclick=\"convertToInteractive('df-2572f057-1551-488c-b878-9384d5a4b887')\"\n",
              "              title=\"Convert this dataframe to an interactive table.\"\n",
              "              style=\"display:none;\">\n",
              "        \n",
              "  <svg xmlns=\"http://www.w3.org/2000/svg\" height=\"24px\"viewBox=\"0 0 24 24\"\n",
              "       width=\"24px\">\n",
              "    <path d=\"M0 0h24v24H0V0z\" fill=\"none\"/>\n",
              "    <path d=\"M18.56 5.44l.94 2.06.94-2.06 2.06-.94-2.06-.94-.94-2.06-.94 2.06-2.06.94zm-11 1L8.5 8.5l.94-2.06 2.06-.94-2.06-.94L8.5 2.5l-.94 2.06-2.06.94zm10 10l.94 2.06.94-2.06 2.06-.94-2.06-.94-.94-2.06-.94 2.06-2.06.94z\"/><path d=\"M17.41 7.96l-1.37-1.37c-.4-.4-.92-.59-1.43-.59-.52 0-1.04.2-1.43.59L10.3 9.45l-7.72 7.72c-.78.78-.78 2.05 0 2.83L4 21.41c.39.39.9.59 1.41.59.51 0 1.02-.2 1.41-.59l7.78-7.78 2.81-2.81c.8-.78.8-2.07 0-2.86zM5.41 20L4 18.59l7.72-7.72 1.47 1.35L5.41 20z\"/>\n",
              "  </svg>\n",
              "      </button>\n",
              "      \n",
              "  <style>\n",
              "    .colab-df-container {\n",
              "      display:flex;\n",
              "      flex-wrap:wrap;\n",
              "      gap: 12px;\n",
              "    }\n",
              "\n",
              "    .colab-df-convert {\n",
              "      background-color: #E8F0FE;\n",
              "      border: none;\n",
              "      border-radius: 50%;\n",
              "      cursor: pointer;\n",
              "      display: none;\n",
              "      fill: #1967D2;\n",
              "      height: 32px;\n",
              "      padding: 0 0 0 0;\n",
              "      width: 32px;\n",
              "    }\n",
              "\n",
              "    .colab-df-convert:hover {\n",
              "      background-color: #E2EBFA;\n",
              "      box-shadow: 0px 1px 2px rgba(60, 64, 67, 0.3), 0px 1px 3px 1px rgba(60, 64, 67, 0.15);\n",
              "      fill: #174EA6;\n",
              "    }\n",
              "\n",
              "    [theme=dark] .colab-df-convert {\n",
              "      background-color: #3B4455;\n",
              "      fill: #D2E3FC;\n",
              "    }\n",
              "\n",
              "    [theme=dark] .colab-df-convert:hover {\n",
              "      background-color: #434B5C;\n",
              "      box-shadow: 0px 1px 3px 1px rgba(0, 0, 0, 0.15);\n",
              "      filter: drop-shadow(0px 1px 2px rgba(0, 0, 0, 0.3));\n",
              "      fill: #FFFFFF;\n",
              "    }\n",
              "  </style>\n",
              "\n",
              "      <script>\n",
              "        const buttonEl =\n",
              "          document.querySelector('#df-2572f057-1551-488c-b878-9384d5a4b887 button.colab-df-convert');\n",
              "        buttonEl.style.display =\n",
              "          google.colab.kernel.accessAllowed ? 'block' : 'none';\n",
              "\n",
              "        async function convertToInteractive(key) {\n",
              "          const element = document.querySelector('#df-2572f057-1551-488c-b878-9384d5a4b887');\n",
              "          const dataTable =\n",
              "            await google.colab.kernel.invokeFunction('convertToInteractive',\n",
              "                                                     [key], {});\n",
              "          if (!dataTable) return;\n",
              "\n",
              "          const docLinkHtml = 'Like what you see? Visit the ' +\n",
              "            '<a target=\"_blank\" href=https://colab.research.google.com/notebooks/data_table.ipynb>data table notebook</a>'\n",
              "            + ' to learn more about interactive tables.';\n",
              "          element.innerHTML = '';\n",
              "          dataTable['output_type'] = 'display_data';\n",
              "          await google.colab.output.renderOutput(dataTable, element);\n",
              "          const docLink = document.createElement('div');\n",
              "          docLink.innerHTML = docLinkHtml;\n",
              "          element.appendChild(docLink);\n",
              "        }\n",
              "      </script>\n",
              "    </div>\n",
              "  </div>\n",
              "  "
            ]
          },
          "metadata": {},
          "execution_count": 84
        }
      ],
      "source": [
        "data"
      ]
    },
    {
      "cell_type": "code",
      "execution_count": 85,
      "metadata": {
        "colab": {
          "base_uri": "https://localhost:8080/"
        },
        "id": "u7YzIfYQ-nta",
        "outputId": "d04080be-284e-460f-b0a1-dc7db918f81e"
      },
      "outputs": [
        {
          "output_type": "stream",
          "name": "stderr",
          "text": [
            "/usr/local/lib/python3.7/dist-packages/ipykernel_launcher.py:1: SettingWithCopyWarning:\n",
            "\n",
            "\n",
            "A value is trying to be set on a copy of a slice from a DataFrame.\n",
            "Try using .loc[row_indexer,col_indexer] = value instead\n",
            "\n",
            "See the caveats in the documentation: https://pandas.pydata.org/pandas-docs/stable/user_guide/indexing.html#returning-a-view-versus-a-copy\n",
            "\n"
          ]
        }
      ],
      "source": [
        "data['Review_cleaned'] = data['Review'].apply(lambda x: re.sub('[%s]'%re.escape(string.punctuation), ' ', x))"
      ]
    },
    {
      "cell_type": "code",
      "execution_count": 86,
      "metadata": {
        "colab": {
          "base_uri": "https://localhost:8080/"
        },
        "id": "Bxcpn4_q-ntc",
        "outputId": "692f7fb7-3aa4-487b-d225-c1365cd0be7b"
      },
      "outputs": [
        {
          "output_type": "execute_result",
          "data": {
            "text/plain": [
              "array(['I was very impressed with the resort  Great staff at the main resort pool bar  We had a blast with them  Clean  professional staff  great location and very reasonable ',\n",
              "       'The rooms were nice the outside needs work also no free breakfast it would have been nice overall it was ok',\n",
              "       'Great location  I have stayed at this hotel on my last three trips to New York ',\n",
              "       'The hotel was adequate for my stay  The strips in the bathtub were useless as I fell while taking a shower  I asked the front desk staff several times to get a bath mat but they never did  Management was unresponsive to my request which was very poor  someone should have gone to a dollar store and gotten a bath mat  Breakfast was good but it would have been nice to have had yogurt and or cottage cheese on the buffet ',\n",
              "       'Great location  room was large and spacious  Parking was easy and we appreciated the friendly staff'],\n",
              "      dtype=object)"
            ]
          },
          "metadata": {},
          "execution_count": 86
        }
      ],
      "source": [
        "data.Review_cleaned[:5].values"
      ]
    },
    {
      "cell_type": "markdown",
      "metadata": {
        "id": "jwvfoBcl-ntd"
      },
      "source": [
        "# Lemmitization"
      ]
    },
    {
      "cell_type": "code",
      "execution_count": 87,
      "metadata": {
        "id": "iIBcyAoL-nte"
      },
      "outputs": [],
      "source": [
        "nlp = spacy.load('en_core_web_sm')\n",
        "\n",
        "data['lemmatized'] = data['Review'].apply(lambda x: ' '.join([token.lemma_ for token in list(nlp(x)) if (token.is_stop == False)]))\n",
        "data['lemmatized'] = [x.strip() for x in data['lemmatized']]"
      ]
    },
    {
      "cell_type": "markdown",
      "source": [
        "# Language Detection"
      ],
      "metadata": {
        "id": "WoTzqBPaHIe2"
      }
    },
    {
      "cell_type": "code",
      "execution_count": 116,
      "metadata": {
        "id": "fSfVHoMf-ntn"
      },
      "outputs": [],
      "source": [
        "T = data.Review[0]"
      ]
    },
    {
      "cell_type": "code",
      "source": [
        "T"
      ],
      "metadata": {
        "colab": {
          "base_uri": "https://localhost:8080/",
          "height": 54
        },
        "id": "UX0i_MqODAPT",
        "outputId": "f8638cd2-5de0-4464-aff0-8c2bcfd7f1f9"
      },
      "execution_count": 117,
      "outputs": [
        {
          "output_type": "execute_result",
          "data": {
            "text/plain": [
              "'I was very impressed with the resort. Great staff at the main resort pool bar! We had a blast with them. Clean, professional staff, great location and very reasonable!'"
            ],
            "application/vnd.google.colaboratory.intrinsic+json": {
              "type": "string"
            }
          },
          "metadata": {},
          "execution_count": 117
        }
      ]
    },
    {
      "cell_type": "code",
      "source": [
        "_,_,_, detected_language = cld2.detect(T, returnVectors = True )"
      ],
      "metadata": {
        "id": "Qf_MotreGBuY"
      },
      "execution_count": 118,
      "outputs": []
    },
    {
      "cell_type": "code",
      "source": [
        "detected_language[0][2]"
      ],
      "metadata": {
        "colab": {
          "base_uri": "https://localhost:8080/",
          "height": 36
        },
        "id": "7bRYU-SfGNfS",
        "outputId": "d52c80b6-ddfb-4eb5-8d21-6bb792b82af6"
      },
      "execution_count": 119,
      "outputs": [
        {
          "output_type": "execute_result",
          "data": {
            "text/plain": [
              "'ENGLISH'"
            ],
            "application/vnd.google.colaboratory.intrinsic+json": {
              "type": "string"
            }
          },
          "metadata": {},
          "execution_count": 119
        }
      ]
    },
    {
      "cell_type": "code",
      "source": [
        "def language_detection(strn):\n",
        "  _,_,_, detected_lang = cld2.detect(strn, returnVectors = True)\n",
        "  if len(detected_lang) > 1:\n",
        "    langs = []\n",
        "    for i in detected_lang:\n",
        "      lang = i[2]\n",
        "      langs.append(lang)\n",
        "  else:\n",
        "    try:\n",
        "      langs = detected_lang[0][2]\n",
        "    except:\n",
        "      langs = None\n",
        "  return langs"
      ],
      "metadata": {
        "id": "ZRFCnIH3HGWf"
      },
      "execution_count": 128,
      "outputs": []
    },
    {
      "cell_type": "code",
      "source": [
        "data['Languages']=data.Review.apply(language_detection)"
      ],
      "metadata": {
        "id": "QvCpcQuUHGQ1"
      },
      "execution_count": 130,
      "outputs": []
    },
    {
      "cell_type": "code",
      "source": [
        "data['Languages'].isnull().sum()"
      ],
      "metadata": {
        "colab": {
          "base_uri": "https://localhost:8080/"
        },
        "id": "xOMpr602HEwN",
        "outputId": "eb851205-3738-439e-c651-0d73c19f9d29"
      },
      "execution_count": 133,
      "outputs": [
        {
          "output_type": "execute_result",
          "data": {
            "text/plain": [
              "23"
            ]
          },
          "metadata": {},
          "execution_count": 133
        }
      ]
    },
    {
      "cell_type": "markdown",
      "metadata": {
        "id": "kPrTT2fz-nth"
      },
      "source": [
        "# Sentiment score using counts of positive and negative words"
      ]
    },
    {
      "cell_type": "code",
      "execution_count": 38,
      "metadata": {
        "id": "ImXEhISy-nti"
      },
      "outputs": [],
      "source": [
        "affinity_score = afinn.set_index('word')['value'].to_dict()\n",
        "\n",
        "nlp = spacy.load('en_core_web_sm')\n",
        "sentiment_lexicon = affinity_score\n",
        "\n",
        "def calculate_sentiment(text: str = None):\n",
        "    sent_score = 0\n",
        "    if text:\n",
        "        sentence = nlp(text)\n",
        "        for word in sentence:\n",
        "            sent_score += sentiment_lexicon.get(word.lemma_, 0)\n",
        "    return sent_score\n",
        "    \n",
        "data['Sentiment'] = data['Review_cleaned'].apply(calculate_sentiment)"
      ]
    },
    {
      "cell_type": "code",
      "execution_count": 39,
      "metadata": {
        "colab": {
          "base_uri": "https://localhost:8080/",
          "height": 542
        },
        "id": "UQZMq7kZ-ntk",
        "outputId": "4bb0fc3b-c13e-4492-e362-efff5cd54a00"
      },
      "outputs": [
        {
          "output_type": "display_data",
          "data": {
            "text/html": [
              "<html>\n",
              "<head><meta charset=\"utf-8\" /></head>\n",
              "<body>\n",
              "    <div>            <script src=\"https://cdnjs.cloudflare.com/ajax/libs/mathjax/2.7.5/MathJax.js?config=TeX-AMS-MML_SVG\"></script><script type=\"text/javascript\">if (window.MathJax) {MathJax.Hub.Config({SVG: {font: \"STIX-Web\"}});}</script>                <script type=\"text/javascript\">window.PlotlyConfig = {MathJaxConfig: 'local'};</script>\n",
              "        <script src=\"https://cdn.plot.ly/plotly-2.8.3.min.js\"></script>                <div id=\"9f06ea48-49da-40a4-bd4f-d6346bdaf54d\" class=\"plotly-graph-div\" style=\"height:525px; width:100%;\"></div>            <script type=\"text/javascript\">                                    window.PLOTLYENV=window.PLOTLYENV || {};                                    if (document.getElementById(\"9f06ea48-49da-40a4-bd4f-d6346bdaf54d\")) {                    Plotly.newPlot(                        \"9f06ea48-49da-40a4-bd4f-d6346bdaf54d\",                        [{\"alignmentgroup\":\"True\",\"bingroup\":\"x\",\"hovertemplate\":\"Sentiment=%{x}<br>count=%{y}<extra></extra>\",\"legendgroup\":\"\",\"marker\":{\"color\":\"#636efa\",\"pattern\":{\"shape\":\"\"}},\"name\":\"\",\"offsetgroup\":\"\",\"orientation\":\"v\",\"showlegend\":false,\"x\":[11,6,3,3,8,7,0,3,5,0,10,8,4,6,0,5,4,4,0,2,7,5,5,3,5,8,6,3,-1,6,-4,-5,3,14,2,4,7,0,9,0,5,5,10,7,-1,0,3,0,0,9,8,2,8,0,-4,-1,11,2,7,0,5,-3,7,5,11,5,7,7,3,9,4,1,2,2,7,8,6,4,3,0,7,7,3,7,2,0,-1,11,6,3,2,1,5,3,0,-2,0,6,11,5,5,0,1,-3,4,2,5,4,23,11,15,1,8,14,3,2,6,9,8,0,8,0,1,-3,1,4,5,2,4,-2,2,0,6,0,1,2,3,3,-2,8,2,1,8,5,6,1,-1,4,10,0,5,0,3,-1,-3,0,2,-5,1,6,9,3,4,2,5,-3,9,-2,0,4,12,0,4,13,5,0,2,16,11,9,-1,4,1,-3,3,4,9,11,11,6,10,1,-3,9,-1,-1,9,4,5,7,7,5,9,0,2,2,4,6,-6,11,10,0,8,10,2,8,1,5,-1,3,0,3,3,5,4,1,9,5,6,0,7,8,1,27,3,9,0,4,2,1,-6,7,9,4,-1,5,5,-4,8,11,5,4,8,9,5,2,3,5,3,2,7,0,6,11,-2,5,0,9,3,-1,6,-7,2,1,15,-2,0,-2,7,0,6,7,-2,10,0,2,-1,-8,9,5,-3,0,-1,13,7,-2,10,4,12,1,-3,5,7,6,4,13,5,3,5,2,3,2,-3,-4,7,8,8,0,12,0,3,5,17,6,-1,6,-1,2,7,5,6,2,0,2,7,5,8,7,8,2,3,7,10,-5,0,0,14,-3,2,4,5,8,-3,19,13,6,1,-2,-2,8,0,0,4,3,9,1,5,10,2,8,-1,-2,11,12,2,0,8,0,5,-5,2,12,3,12,-2,3,0,1,-2,9,-1,9,5,16,4,11,11,4,2,-2,8,-1,2,9,6,0,-1,4,8,9,7,12,5,5,5,13,3,8,8,6,2,8,7,0,2,5,6,-1,-5,4,7,-4,2,7,0,10,-1,1,18,8,8,11,4,6,15,8,-3,1,14,11,4,2,7,11,7,10,8,18,0,-2,8,0,12,6,0,5,11,7,2,2,4,5,5,3,7,2,5,2,1,3,1,4,0,5,9,2,21,16,6,3,6,9,9,0,-2,9,3,3,0,0,-2,5,14,9,16,4,5,-7,0,2,4,4,6,7,2,4,3,2,0,5,4,7,5,2,7,6,-5,-10,6,-7,7,8,5,2,4,-3,-5,3,5,9,-1,8,21,7,2,5,0,5,3,11,13,5,-1,-2,1,8,0,6,0,-7,2,0,6,-2,4,-1,-3,6,-1,-2,2,5,5,5,-2,11,6,2,-2,2,0,3,10,11,-2,4,14,-1,3,-4,4,5,3,6,8,2,1,1,7,5,19,3,23,-1,6,21,8,2,6,-1,0,0,3,6,-4,-1,3,10,8,7,-3,6,1,0,0,11,2,2,4,3,0,10,0,-1,3,3,15,10,8,0,11,2,7,-1,-9,7,2,2,6,12,2,-2,1,-13,0,3,7,2,6,2,6,8,4,5,0,-33,0,1,-1,0,20,-2,-3,-3,7,0,-7,0,0,11,-8,-4,7,3,5,4,19,-1,2,-6,4,7,0,12,7,12,10,9,-8,8,7,2,0,15,0,0,5,6,3,0,9,3,16,8,3,8,0,5,8,5,3,8,6,0,13,0,6,3,3,-1,2,2,0,-3,0,-3,3,7,-2,11,3,5,18,1,0,5,-2,0,3,6,0,-19,2,-1,3,25,3,3,0,0,11,3,4,14,3,2,2,-5,0,0,6,7,1,0,0,0,8,8,4,0,-1,-1,5,7,3,3,21,0,2,15,6,14,0,12,-3,2,10,3,4,-3,6,4,5,4,6,1,1,10,2,3,6,2,7,16,10,7,-1,3,6,-5,0,-2,5,8,4,-1,14,7,41,5,3,11,0,0,6,4,7,4,2,-1,-2,3,5,-2,0,6,14,0,1,0,1,9,15,4,7,10,1,5,0,7,11,0,24,9,-6,-2,2,9,2,0,4,5,5,0,3,3,5,-2,5,2,5,3,0,12,2,16,-2,26,3,3,0,-7,-5,0,-6,10,0,-3,6,-2,5,6,2,5,11,36,0,-7,7,-3,0,0,5,11,5,6,6,4,10,3,7,-9,-3,22,3,4,7,3,6,2,1,11,-1,-2,-1,-1,-6,8,4,3,-31,4,3,-1,-10,10,2,13,-5,5,-12,0,4,3,10,-1,-1,0,4,-5,5,3,-6,-3,3,-5,3,4,-4,3,-6,0,6,4,3,0,2,7,9,3,0,3,0,0,11,2,9,3,7,16,3,3,3,-3,5,2,5,2,5,3,5,0,4,8,-6,4,10,8,1,14,14,10,-3,5,-6,15,1,6,-1,5,6,6,1,5,0,1,0,2,3,0,9,0,3,8,0,4,6,9,12,-7,22,0,3,5,0,1,-2,-6,7,4,7,6,-9,3,12,10,-1,2,16,-3,3,28,-3,4,1,8,8,5,10,7,0,-5,4,-2,11,2,3,0,-7,-4,5,12,9,4,-1,-1,-3,2,4,-1,10,0,0,0,3,2,3,8,5,10,16,0,7,14,2,22,-4,3,5,10,3,0,8,5,2,0,2,-1,2,-4,13,2,2,0,-3,6,0,9,0,0,-1,7,14,6,3,9,11,2,0,0,2,4,3,-1,-1,0,-1,0,5,17,0,3,-7,13,1,6,4,4,8,1,0,19,2,5,6,6,7,-2,1,7,11,11,6,5,-3,3,-2,12,4,5,0,3,3,6,7,5,6,7,-1,9,4,1,-3,6,3,-3,-1,-3,13,6,-4,-4,-8,-9,-6,14,9,6,-1,16,3,6,-7,-7,5,-2,4,13,5,0,3,0,0,4,5,0,5,2,-7,11,11,13,11,5,-1,0,1,1,0,14,0,3,-2,-3,5,5,0,-3,6,-2,-1,1,0,3,1,-2,14,12,14,6,11,9,2,0,0,4,0,2,0,0,3,6,-9,5,11,3,2,3,0,7,5,4,3,0,9,-3,2,3,3,-13,3,2,8,4,6,1,-1,3,5,8,6,10,7,10,0,3,0,4,9,4,4,2,11,-3,16,0,0,-7,0,-1,9,3,7,3,1,0,3,12,8,3,6,0,-2,-8,0,3,3,4,12,0,0,10,11,0,3,5,11,-1,0,6,10,5,6,2,-3,7,6,9,11,-3,-1,8,4,0,3,3,3,1,3,3,-1,7,4,4,5,0,14,3,3,3,0,5,1,-4,3,3,19,6,2,11,0,4,2,6,6,-7,3,10,0,-1,1,6,3,7,7,4,-1,19,-1,2,-7,2,0,2,11,7,2,3,8,-8,0,3,5,0,8,2,2,0,3,4,4,0,2,0,3,-9,-5,5,6,7,10,0,0,0,-2,5,2,1,-1,1,6,0,3,5,4,10,8,12,6,14,0,6,3,-8,5,0,-2,5,-6,0,3,7,2,1,-2,11,3,10,4,9,6,0,0,2,7,3,4,2,12,0,11,5,3,8,9,2,2,5,16,5,3,3,9,1,6,5,-2,2,6,4,3,-1,-4,9,1,6,3,-2,9,5,3,7,9,2,6,0,2,2,7,-3,7,10,3,-2,-2,10,12,3,7,0,7,10,1,0,25,0,8,2,-2,0,4,3,0,0,0,5,7,4,0,3,-1,3,7,12,-3,3,9,1,10,3,0,10,2,9,-5,6,3,2,10,0,6,10,-1,-1,0,4,8,8,8,-4,1,8,1,4,-3,9,-2,4,5,-3,6,0,3,10,0,0,6,2,-2,5,4,0,11,14,3,15,9,6,9,21,7,0,0,2,7,-1,0,12,2,3,4,7,5,1,-5,4,-1,20,11,4,0,-4,0,6,9,5,2,5,6,5,0,2,-3,3,7,1,0,3,4,9,15,1,-3,11,4,3,2,1,0,9,22,5,4,6,0,7,5,8,-3,7,3,-9,3,1,1,0,0,-7,4,6,6,5,5,0,5,3,-3,9,5,4,4,7,0,0,6,5,17,0,8,0,11,10,8,5,-9,3,-1,6,11,6,3,32,9,3,0,6,5,-3,12,6,5,4,-1,1,2,1,10,3,2,-2,5,4,5,1,7,3,6,5,7,-3,0,5,-10,0,2,16,1,1,4,9,3,5,0,6,3,0,8,4,8,4,0,-1,3,12,-1,4,6,2,12,6,-1,-2,-4,2,9,-1,12,1,2,6,5,3,0,1,0,1,-1,7,4,2,4,7,8,10,5,11,7,3,-1,-7,6,1,8,8,4,-5,7,5,0,0,5,10,2,-1,-3,17,2,4,5,2,7,1,0,1,3,4,2,-4,0,29,7,3,4,-1,4,2,14,2,6,7,1,0,14,0,12,0,-2,-2,3,2,2,3,6,0,12,1,0,7,7,-1,-3,4,3,4,6,6,10,5,5,-1,3,23,3,7,-12,1,7,6,4,6,0,-2,0,-1,-4,-3,0,0,3,7,0,-1,3,10,-5,4,-12,0,-19,2,4,0,15,-2,2,11,-15,0,0,4,1,7,6,0,4,12,3,8,-4,-1,5,0,0,4,2,0,1,9,12,22,18,0,6,0,7,9,-1,0,-7,-1,0,18,7,6,-2,-1,2,0,8,-1,-2,6,-2,3,8,5,0,0,5,2,1,10,11,-2,-1,0,-1,0,8,4,6,0,4,4,6,5,7,12,22,3,18,3,2,8,-4,-1,22,3,-1,4,0,0,1,-3,6,3,0,3,-3,3,12,6,3,8,3,4,5,-3,11,4,5,6,2,6,5,6,6,-2,2,9,8,4,3,-2,0,6,0,7,5,5,4,0,5,5,-2,5,0,4,3,0,3,7,3,8,-6,4,4,5,3,-1,0,0,-3,3,5,7,8,0,12,5,8,9,10,-1,3,4,12,5,3,-3,-2,2,-2,13,7,3,5,8,4,8,5,1,-1,-12,-1,8,-3,2,4,4,10,0,0,0,5,12,-1,6,0,0,3,-1,4,2,0,3,10,-2,0,-7,3,-1,4,8,1,-1,-2,0,14,7,7,3,6,-4,2,4,11,-1,7,16,1,12,-1,6,12,2,3,3,8,0,-2,0,3,3,0,3,0,5,2,3,7,0,0,6,2,1,19,2,8,0,-3,0,-3,3,3,10,6,10,-3,1,5,1,8,1,4,-3,7,16,3,19,30,0,4,4,-3,5,4,7,3,12,0,6,3,5,5,3,-3,3,12,0,3,-1,3,7,3,7,4,3,0,0,0,1,4,0,-3,10,-1,2,5,0,7,0,6,2,3,-1,-2,5,8,3,7,-4,4,8,4,-1,4,0,12,3,3,14,-2,4,10,8,5,0,12,3,-3,0,1,8,9,3,8,3,2,13,7,3,3,0,0,11,0,-2,4,14,0,8,1,3,4,10,11,0,8,4,0,11,2,2,3,9,-5,3,2,0,22,9,3,2,6,3,2,4,5,4,1,-6,1,0,-2,5,5,6,-5,-2,11,3,3,17,0,0,7,-4,11,-1,0,3,3,3,14,5,11,-4,12,14,13,5,8,0,4,8,-2,10,14,2,6,7,6,4,5,-1,1,12,-3,0,2,6,6,8,6,7,1,12,10,0,-7,12,6,3,-2,5,1,6,19,16,9,0,8,0,8,10,14,0,-5,-3,11,2,9,1,-3,6,0,3,7,0,0,7,4,-1,2,9,1,-1,14,-3,-4,0,-3,6,0,3,-5,6,2,0,-1,-4,3,3,3,0,0,8,2,8,3,7,13,5,4,7,6,6,-2,2,-1,15,1,5,10,2,6,5,-3,-1,6,4,-2,-13,4,13,0,-3,0,-1,0,2,0,0,4,8,3,3,0,0,0,5,12,-3,5,-3,3,3,4,6,-2,4,-5,5,-3,5,0,-1,4,-2,11,8,7,2,9,7,4,0,3,3,0,6,14,15,6,12,6,1,3,0,7,6,5,5,0,0,4,-2,5,1,2,7,-2,4,3,8,-2,5,2,6,-5,5,6,13,5,-6,9,10,5,7,6,10,5,7,15,0,-6,10,8,10,0,12,14,4,2,6,9,13,5,0,9,7,6,7,0,2,0,2,3,6,6,10,6,5,0,3,3,0,5,14,7,3,2,18,-1,1,4,8,12,6,0,5,0,5,1,5,3,12,0,5,0,8,-2,3,3,9,2,9,3,3,-3,23,40,6,2,-6,-1,6,2,12,0,7,5,-8,-2,8,11,4,3,9,2,6,8,4,4,1,2,0,0,2,5,6,10,12,7,18,3,-1,7,-4,8,3,-1,-2,0,10,11,6,1,14,4,-3,11,1,2,19,11,8,5,13,12,-1,12,4,6,3,3,3,8,5,9,4,-4,5,8,5,0,1,9,4,6,2,11,-5,1,4,7,10,9,7,0,-1,9,3,2,2,13,8,6,6,-4,6,1,8,11,-4,12,-5,11,8,10,6,5,4,8,2,5,3,15,16,7,8,2,6,-10,7,6,4,5,3,13,-1,8,6,7,3,6,3,16,9,2,3,0,6,1,6,0,-2,-4,1,3,-8,0,0,6,5,-2,5,7,1,0,4,9,3,3,-2,7,4,7,-5,-7,-1,2,0,4,7,6,0,1,0,10,2,3,-1,1,8,6,0,4,0,0,-2,11,0,-4,4,10,0,7,7,0,5,7,3,2,0,0,12,4,8,-2,-6,29,5,-5,4,-2,0,4,13,3,6,0,17,0,7,0,-4,-12,6,15,-1,2,0,0,7,13,7,2,-5,3,2,-4,1,5,-2,0,0,4,2,14,-12,6,5,-3,11,-6,4,9,0,5,11,6,3,2,3,8,2,10,5,5,7,-2,0,7,5,14,2,7,-1,3,10,4,23,0,2,-4,0,0,4,10,6,2,12,-3,-2,0,8,0,0,5,0,7,8,1,8,3,8,5,9,10,5,1,11,6,-1,-4,-1,13,-3,15,3,7,3,0,3,13,0,0,12,10,5,7,5,1,4,1,3,-1,-6,0,3,3,1,-4,8,1,7,10,9,0,4,6,-7,2,0,-1,0,-5,6,2,12,1,7,0,-2,0,3,7,7,10,6,0,4,-1,0,3,0,5,0,2,8,4,0,18,18,1,10,1,2,9,7,2,-3,-3,-15,-4,0,11,4,27,-2,16,31,1,5,0,6,1,15,3,8,-13,6,-2,16,5,5,2,-2,0,0,0,6,11,5,0,-9,-6,1,-3,0,3,9,0,0,0,6,0,7,7,-2,0,2,-4,-6,5,8,0,15,4,-18,-1,7,2,-1,-19,3,-1,-1,-2,2,-10,-3,-1,-1,10,8,-1,-3,11,-1,0,2,12,13,8,8,-2,2,7,14,-1,0,0,-1,2,-6,13,4,16,0,-1,0,0,8,5,-8,-1,7,15,10,3,-5,0,8,-3,7,5,8,9,10,0,1,0,10,0,9,-3,3,0,14,3,11,8,0,6,-3,0,3,8,9,0,5,3,3,3,-4,3,6,-3,-8,0,-10,-3,6,-5,1,1,20,-1,7,0,3,9,0,2,6,3,13,0,0,1,2,0,-9,3,9,4,6,6,2,13,2,14,5,3,0,7,8,4,-2,-4,5,-13,13,11,19,2,3,4,8,3,0,22,3,4,3,0,0,17,6,2,2,0,7,15,-1,0,0,2,15,2,0,-3,-5,-1,3,6,-13,12,6,5,7,1,-7,0,0,3,-2,0,3,5,-1,0,8,8,-2,19,7,0,7,0,0,4,8,3,3,11,11,6,1,8,1,4,4,2,-1,0,4,4,11,-15,6,9,10,-2,0,8,8,12,12,3,-1,6,0,2,12,0,3,4,3,12,4,-1,9,-1,-3,3,12,7,-1,3,-1,1,1,8,10,6,0,3,3,13,2,9,5,6,4,9,-5,6,18,2,3,7,1,-3,3,-1,3,0,8,10,17,2,5,4,9,2,3,3,0,2,3,3,9,11,12,8,22,5,6,9,0,6,10,3,-10,7,12,6,-4,-9,12,11,2,8,-2,3,1,3,0,4,2,0,0,0,1,6,7,3,0,7,0,3,6,3,6,5,0,9,12,5,11,3,6,3,0,7,2,6,6,-1,-6,5,2,8,-1,0,27,-5,0,0,4,3,8,-3,2,1,4,3,4,1,-2,7,3,8,2,4,2,-3,0,2,16,0,14,0,-1,2,11,7,0,5,5,-2,2,6,5,3,5,3,12,10,9,0,1,20,4,11,5,6,0,4,-1,-9,-2,1,3,6,1,3,-5,3,8,3,1,0,0,4,3,2,8,0,8,3,7,11,0,-2,8,21,1,-3,3,3,4,5,2,4,6,-4,3,3,5,0,0,6,10,7,5,3,3,0,0,-5,0,-5,-2,3,0,10,15,0,6,0,3,24,-7,10,-1,5,4,3,3,12,3,-2,4,2,13,2,4,11,-8,6,15,2,0,6,-3,6,0,4,3,4,3,7,3,7,-3,6,-1,0,4,14,3,12,4,4,7,0,-3,3,5,1,0,5,6,0,-6,0,3,8,8,7,8,3,11,10,7,2,3,11,3,8,3,0,3,6,3,3,-2,-1,6,3,3,1,3,-3,9,9,3,4,6,2,2,2,10,7,3,0,2,-3,8,0,1,0,1,7,0,7,0,8,-1,3,0,10,2,8,11,7,2,6,2,2,0,0,6,-1,5,3,8,1,2,6,-1,3,5,7,1,-6,20,1,6,-3,7,0,5,4,3,9,-1,5,3,9,4,2,0,0,11,11,11,0,4,7,6,11,14,0,3,3,0,0,-2,0,19,2,2,0,2,-5,6,4,3,4,20,5,3,6,10,2,8,0,19,14,8,14,10,0,5,3,6,-2,6,10,0,6,3,3,3,9,0,7,7,-1,4,-1,-2,6,8,3,13,-1,12,4,10,0,15,-1,5,0,3,5,0,10,-1,0,12,10,5,3,-5,4,21,7,0,1,10,4,8,8,9,4,6,3,3,5,8,-2,3,0,4,10,-1,6,11,8,8,0,5,17,3,11,6,7,12,-2,-1,-1,7,0,4,2,0,0,-4,6,11,3,8,8,7,13,10,2,-1,6,2,3,6,7,7,6,1,-1,7,15,6,13,0,10,2,10,0,-1,7,11,2,3,0,3,5,21,8,2,0,4,2,3,0,7,5,0,3,6,3,13,16,0,5,3,5,11,3,-3,8,0,0,0,12,8,0,-3,4,0,3,7,5,3,8,5,10,3,4,1,7,7,7,3,2,2,5,4,13,4,11,2,-1,3,2,5,-1,0,-6,9,3,10,5,-2,5,3,1,4,6,7,6,-2,0,0,3,1,12,3,3,-3,0,0,6,3,3,-5,0,3,0,-2,3,0,3,0,3,5,4,5,-1,6,12,-3,-1,2,-5,7,1,3,7,0,0,14,7,10,5,0,7,-5,3,5,4,10,-5,1,3,6,7,3,3,-1,0,3,6,3,6,2,-2,1,12,-7,0,3,0,9,14,11,0,7,-1,1,5,3,7,10,0,8,-6,-2,2,3,0,3,15,14,5,3,8,3,-1,-1,8,0,6,5,9,2,2,3,2,3,0,0,5,3,0,3,10,0,2,-2,-1,9,6,3,0,0,8,1,6,-1,12,10,12,2,3,4,4,2,0,2,8,3,-3,9,5,13,-4,2,-1,0,0,4,-2,-2,13,-3,4,3,1,2,0,-1,2,-5,8,6,0,13,3,9,6,-6,4,5,3,12,8,6,4,1,1,-1,3,-2,7,18,12,0,0,4,1,4,2,-2,6,1,3,-1,5,2,12,4,23,0,0,1,-3,0,0,3,14,5,14,-6,22,8,0,9,7,5,4,0,3,0,1,8,0,11,13,3,3,10,5,0,5,7,2,12,3,7,-1,8,0,7,0,3,5,3,0,-4,6,0,3,10,4,5,2,3,0,11,3,5,2,1,-1,-6,9,4,8,19,8,7,-1,-6,3,9,-2,2,21,0,15,0,3,0,-1,-5,-1,7,18,4,6,3,-5,4,5,5,9,0,7,3,0,4,-1,6,-2,9,6,-3,10,6,-12,2,4,-2,3,-6,0,0,-5,-13,0,4,-2,0,9,-7,-2,-9,4,0,3,2,0,-2,0,12,4,8,3,4,5,-2,8,22,-5,4,2,-9,-6,6,0,1,3,9,0,3,12,5,-2,0,11,10,2,8,-4,6,3,0,4,1,-2,11,1,0,0,0,2,7,6,8,-3,0,0,-3,-8,10,-2,5,0,7,6,9,15,5,5,0,6,0,0,1,5,0,-5,3,3,9,7,0,0,-4,0,-4,1,5,1,4,3,15,11,-1,9,2,9,0,7,12,9,1,4,5,1,0,2,0,3,7,-1,-3,0,0,5,2,-4,0,0,-3,3,0,0,-3,8,0,-1,8,4,-5,7,2,2,5,11,5,1,6,0,7,0,0,-2,4,1,6,7,6,0,7,0,10,0,0,1,5,-1,8,-2,9,11,-3,0,0,2,3,7,0,3,9,5,0,7,0,3,9,-2,6,19,4,4,13,0,3,5,0,3,0,0,1,7,-7,2,1,2,0,3,0,6,8,0,9,5,11,2,5,6,3,0,-7,9,10,3,3,2,10,2,0,6,1,-5,3,0,12,6,0,1,-1,10,11,12,2,10,5,6,26,-5,8,0,0,3,3,0,0,2,1,9,29,8,6,0,8,8,3,-1,2,-1,3,4,-3,0,12,11,7,5,3,3,3,0,0,16,1,10,6,0,2,4,0,0,0,6,-3,3,10,-1,5,10,-2,0,0,7,5,0,8,0,0,7,2,7,3,7,0,13,7,7,0,-3,2,8,11,5,1,11,-3,3,2,7,0,-5,-2,-3,12,-1,-5,4,0,4,0,2,7,-4,1,3,10,3,8,-2,3,6,7,4,-4,5,3,6,1,3,10,3,9,-2,11,9,-3,6,5,12,3,6,-2,0,3,8,3,13,7,4,5,13,7,18,-4,5,8,-1,4,6,3,0,5,1,6,0,-7,-7,12,1,6,0,4,16,-1,5,5,12,3,2,-2,5,-1,9,0,1,10,4,0,-4,4,2,-5,0,7,8,2,5,5,12,6,17,-4,-1,0,3,14,11,7,2,1,6,-4,-3,32,7,2,0,3,4,5,0,-3,3,15,10,1,0,0,3,5,3,-4,8,2,11,5,1,10,2,10,10,0,3,7,2,4,6,6,7,4,6,12,4,5,16,-5,0,2,-6,0,4,1,3,6,5,2,4,-2,2,2,20,3,-2,4,4,3,8,11,15,3,9,3,0,2,3,5,2,7,2,0,2,10,5,2,2,5,2,0,-1,8,-3,8,5,11,1,0,6,7,-2,19,6,-2,-1,4,0,6,4,0,4,15,3,0,-8,-8,7,0,3,-3,11,5,5,-2,-1,2,21,4,4,12,-2,4,3,7,8,8,5,2,0,-3,5,1,1,1,-4,1,10,5,3,-2,11,4,3,0,5,6,15,10,2,-7,18,4,6,0,7,8,3,-3,0,-3,10,6,-17,5,1,8,6,4,-2,-2,5,-2,-3,-10,-2,-2,-3,3,-2,0,0,1,0,12,10,4,13,4,3,5,6,-1,10,5,10,3,-1,2,4,4,2,2,6,14,0,0,3,-6,2,24,7,0,0,0,5,5,-2,11,0,6,0,5,3,5,8,-3,0,4,1,7,5,2,1,-3,0,8,-7,0,6,15,-4,13,9,0,0,10,6,3,0,7,0,4,0,0,0,4,26,3,-2,3,5,5,3,8,4,0,-3,9,7,2,11,6,6,3,9,2,16,6,11,6,11,3,5,12,2,0,5,5,8,6,-6,8,6,-2,-7,4,11,17,2,0,8,-5,13,9,12,3,7,4,5,16,6,-2,2,2,0,3,0,3,0,9,0,2,-3,12,1,13,0,10,-2,5,0,2,12,0,0,0,4,7,0,10,0,7,7,3,16,-3,0,0,2,1,2,3,7,6,0,0,14,8,5,2,0,-3,2,0,12,9,6,6,13,-2,4,3,-1,14,5,4,-8,-8,-1,1,-1,-2,9,14,5,7,1,1,14,0,4,8,0,0,3,8,5,8,7,4,2,-2,1,20,-1,0,6,2,4,2,0,0,-2,-2,3,5,4,-1,5,6,9,0,4,7,3,-14,4,8,8,3,4,0,-4,6,3,2,13,5,5,8,5,1,8,-2,-7,2,5,0,1,-3,-2,0,-3,0,2,10,3,-1,-6,-6,-2,6,3,6,4,6,-4,0,3,8,10,2,2,-2,-2,13,10,12,3,7,7,3,0,3,3,-1,4,5,0,0,5,0,5,5,-2,2,5,-1,2,6,2,8,8,2,6,0,-2,-2,0,1,9,3,3,-2,3,3,7,5,3,0,0,3,11,1,-1,-1,7,9,4,5,3,2,0,9,5,3,3,10,9,8,3,4,14,8,6,2,1,3,1,18,10,1,0,-1,13,2,9,-3,0,15,0,0,-1,0,6,-4,9,2,13,26,-1,0,13,9,-1,-4,5,3,-9,3,7,3,0,5,0,0,0,10,11,-1,12,11,9,9,11,5,10,5,5,6,9,2,4,4,-2,3,3,7,10,2,-5,6,2,11,6,12,10,8,18,6,3,6,0,15,8,3,4,7,0,5,10,10,1,11,-1,3,10,18,4,16,-1,6,2,11,8,6,-10,9,11,7,5,13,14,5,1,6,4,5,18,15,-1,16,-1,8,14,14,12,1,9,10,6,6,8,10,6,9,3,17,9,7,10,10,1,-2,3,5,8,5,1,6,2,10,11,10,4,-1,12,8,11,9,12,14,4,13,8,15,10,13,11,8,2,15,-10,8,15,6,4,11,13,-6,-6,3,0,6,5,10,2,11,9,-3,0,7,3,13,-7,8,6,4,9,14,12,16,0,2,-2,10,0,5,-2,19,4,15,2,1,13,8,12,-2,5,4,2,-9,6,-1,10,2,13,17,4,4,7,6,0,15,-1,-1,6,-6,11,13,12,11,-2,11,17,-3,13,-1,12,3,-3,-3,9,-3,9,-3,13,9,3,13,1,5,4,2,6,3,17,22,4,13,10,7,2,9,10,0,9,9,7,7,3,10,5,-6,-1,1,4,-5,5,-3,-8,2,7,-1,3,11,4,6,1,-2,3,8,8,5,-4,1,1,6,0,9,8,0,3,7,6,8,3,11,2,10,4,-6,5,6,1,5,5,18,3,5,3,-3,15,9,-1,8,8,9,0,7,17,11,-4,-2,10,-1,10,10,16,8,5,10,9,7,0,9,6,5,4,11,6,2,9,8,3,2,6,7,8,20,-1,2,12,1,5,-4,-1,-1,9,9,15,9,1,5,6,3,2,6,9,-2,7,9,-4,2,9,22,9,3,6,3,8,-1,1,19,1,15,0,0,2,10,7,7,-2,9,1,0,9,7,3,10,7,8,9,2,9,10,3,2,17,0,1,5,-3,-8,8,3,2,6,8,4,-5,-1,8,2,9,2,12,2,13,5,4,4,7,16,7,1,5,0,0,5,-2,-1,-5,3,11,5,7,2,0,10,-2,10,2,10,1,5,13,0,4,7,17,-1,6,14,8,6,-2,6,14,-5,6,14,11,0,0,8,-1,7,4,0,6,13,1,3,9,-8,5,1,1,0,0,13,7,-4,4,3,-1,-1,11,2,8,-6,6,3,11,1,2,7,3,-1,9,14,14,-1,0,2,9,16,5,5,6,4,1,4,-3,2,5,-2,14,-2,3,-3,2,0,3,0,9,2,10,4,8,7,0,7,7,12,1,3,1,5,1,8,1,4,4,-1,7,7,19,2,-1,9,14,-1,19,4,8,7,9,11,21,7,-10,3,15,6,16,6,-2,10,0,1,7,1,-7,8,1,3,10,0,15,10,-4,12,7,8,17,-6,4,13,16,-5,9,-2,13,9,3,0,17,5,6,3,6,1,11,8,-6,10,5,7,4,3,11,5,-1,17,1,6,4,-9,8,4,3,7,1,14,18,11,20,8,4,8,5,2,5,5,11,0,6,5,6,2,12,11,0,7,23,19,21,-3,10,9,7,6,8,8,7,16,10,18,8,12,7,8,5,11,23,-1,12,5,7,9,15,12,1,4,12,-1,17,7,11,3,22,8,7,17,7,5,4,15,7,8,6,4,10,-2,14,13,7,14,5,4,0,5,3,8,11,19,4,18,5,12,13,9,15,7,12,0,1,6,15,1,-1,12,1,-3,-1,5,-7,0,9,5,5,6,5,3,0,5,-2,5,0,19,-2,5,23,7,10,-1,1,8,1,12,7,0,13,8,2,2,4,7,10,9,2,6,10,4,8,7,16,11,4,4,12,0,1,6,13,3,0,1,10,-3,1,6,5,7,0,22,7,8,4,7,1,5,-3,2,3,11,3,5,-4,15,11,9,4,3,-1,6,7,7,-2,-3,13,18,7,4,-1,16,12,13,-7,6,0,-2,0,1,6,14,6,2,3,1,-3,-1,4,4,0,-1,0,4,-2,5,8,5,3,9,9,-4,2,5,11,2,13,-1,2,3,11,10,-4,8,15,1,6,-3,9,14,8,-1,10,1,8,-4,3,13,-4,11,-2,8,15,-1,9,14,21,7,-1,13,6,8,-4,1,8,7,11,15,-1,-3,7,0,1,4,7,-1,8,5,0,4,3,15,5,12,5,2,-7,4,3,10,5,-1,13,-5,3,13,-1,12,-1,11,0,7,-17,6,7,0,0,-2,-3,2,0,-1,-1,2,3,2,5,11,5,5,2,3,3,-6,9,9,6,4,9,0,1,0,3,-4,0,-1,-1,3,4,10,0,-1,4,4,0,-2,2,2,3,0,5,0,6,8,8,0,0,7,8,0,4,6,-4,5,4,0,9,0,2,0,2,3,7,3,8,5,1,-3,0,-7,10,4,1,7,8,-2,12,26,-1,0,-6,10,6,0,2,3,5,-1,0,-2,-2,11,9,4,0,7,5,4,0,-2,-2,0,0,-1,2,0,3,2,-1,2,10,8,-1,0,5,0,0,-1,1,0,4,7,-4,6,5,5,3,11,3,0,4,3,4,5,-1,3,0,0,2,2,6,0,1,-1,10,0,2,0,-2,6,9,9,-4,6,3,8,3,2,-1,-2,3,5,10,2,0,11,0,1,0,3],\"xaxis\":\"x\",\"yaxis\":\"y\",\"type\":\"histogram\"}],                        {\"template\":{\"data\":{\"bar\":[{\"error_x\":{\"color\":\"#2a3f5f\"},\"error_y\":{\"color\":\"#2a3f5f\"},\"marker\":{\"line\":{\"color\":\"#E5ECF6\",\"width\":0.5},\"pattern\":{\"fillmode\":\"overlay\",\"size\":10,\"solidity\":0.2}},\"type\":\"bar\"}],\"barpolar\":[{\"marker\":{\"line\":{\"color\":\"#E5ECF6\",\"width\":0.5},\"pattern\":{\"fillmode\":\"overlay\",\"size\":10,\"solidity\":0.2}},\"type\":\"barpolar\"}],\"carpet\":[{\"aaxis\":{\"endlinecolor\":\"#2a3f5f\",\"gridcolor\":\"white\",\"linecolor\":\"white\",\"minorgridcolor\":\"white\",\"startlinecolor\":\"#2a3f5f\"},\"baxis\":{\"endlinecolor\":\"#2a3f5f\",\"gridcolor\":\"white\",\"linecolor\":\"white\",\"minorgridcolor\":\"white\",\"startlinecolor\":\"#2a3f5f\"},\"type\":\"carpet\"}],\"choropleth\":[{\"colorbar\":{\"outlinewidth\":0,\"ticks\":\"\"},\"type\":\"choropleth\"}],\"contour\":[{\"colorbar\":{\"outlinewidth\":0,\"ticks\":\"\"},\"colorscale\":[[0.0,\"#0d0887\"],[0.1111111111111111,\"#46039f\"],[0.2222222222222222,\"#7201a8\"],[0.3333333333333333,\"#9c179e\"],[0.4444444444444444,\"#bd3786\"],[0.5555555555555556,\"#d8576b\"],[0.6666666666666666,\"#ed7953\"],[0.7777777777777778,\"#fb9f3a\"],[0.8888888888888888,\"#fdca26\"],[1.0,\"#f0f921\"]],\"type\":\"contour\"}],\"contourcarpet\":[{\"colorbar\":{\"outlinewidth\":0,\"ticks\":\"\"},\"type\":\"contourcarpet\"}],\"heatmap\":[{\"colorbar\":{\"outlinewidth\":0,\"ticks\":\"\"},\"colorscale\":[[0.0,\"#0d0887\"],[0.1111111111111111,\"#46039f\"],[0.2222222222222222,\"#7201a8\"],[0.3333333333333333,\"#9c179e\"],[0.4444444444444444,\"#bd3786\"],[0.5555555555555556,\"#d8576b\"],[0.6666666666666666,\"#ed7953\"],[0.7777777777777778,\"#fb9f3a\"],[0.8888888888888888,\"#fdca26\"],[1.0,\"#f0f921\"]],\"type\":\"heatmap\"}],\"heatmapgl\":[{\"colorbar\":{\"outlinewidth\":0,\"ticks\":\"\"},\"colorscale\":[[0.0,\"#0d0887\"],[0.1111111111111111,\"#46039f\"],[0.2222222222222222,\"#7201a8\"],[0.3333333333333333,\"#9c179e\"],[0.4444444444444444,\"#bd3786\"],[0.5555555555555556,\"#d8576b\"],[0.6666666666666666,\"#ed7953\"],[0.7777777777777778,\"#fb9f3a\"],[0.8888888888888888,\"#fdca26\"],[1.0,\"#f0f921\"]],\"type\":\"heatmapgl\"}],\"histogram\":[{\"marker\":{\"pattern\":{\"fillmode\":\"overlay\",\"size\":10,\"solidity\":0.2}},\"type\":\"histogram\"}],\"histogram2d\":[{\"colorbar\":{\"outlinewidth\":0,\"ticks\":\"\"},\"colorscale\":[[0.0,\"#0d0887\"],[0.1111111111111111,\"#46039f\"],[0.2222222222222222,\"#7201a8\"],[0.3333333333333333,\"#9c179e\"],[0.4444444444444444,\"#bd3786\"],[0.5555555555555556,\"#d8576b\"],[0.6666666666666666,\"#ed7953\"],[0.7777777777777778,\"#fb9f3a\"],[0.8888888888888888,\"#fdca26\"],[1.0,\"#f0f921\"]],\"type\":\"histogram2d\"}],\"histogram2dcontour\":[{\"colorbar\":{\"outlinewidth\":0,\"ticks\":\"\"},\"colorscale\":[[0.0,\"#0d0887\"],[0.1111111111111111,\"#46039f\"],[0.2222222222222222,\"#7201a8\"],[0.3333333333333333,\"#9c179e\"],[0.4444444444444444,\"#bd3786\"],[0.5555555555555556,\"#d8576b\"],[0.6666666666666666,\"#ed7953\"],[0.7777777777777778,\"#fb9f3a\"],[0.8888888888888888,\"#fdca26\"],[1.0,\"#f0f921\"]],\"type\":\"histogram2dcontour\"}],\"mesh3d\":[{\"colorbar\":{\"outlinewidth\":0,\"ticks\":\"\"},\"type\":\"mesh3d\"}],\"parcoords\":[{\"line\":{\"colorbar\":{\"outlinewidth\":0,\"ticks\":\"\"}},\"type\":\"parcoords\"}],\"pie\":[{\"automargin\":true,\"type\":\"pie\"}],\"scatter\":[{\"marker\":{\"colorbar\":{\"outlinewidth\":0,\"ticks\":\"\"}},\"type\":\"scatter\"}],\"scatter3d\":[{\"line\":{\"colorbar\":{\"outlinewidth\":0,\"ticks\":\"\"}},\"marker\":{\"colorbar\":{\"outlinewidth\":0,\"ticks\":\"\"}},\"type\":\"scatter3d\"}],\"scattercarpet\":[{\"marker\":{\"colorbar\":{\"outlinewidth\":0,\"ticks\":\"\"}},\"type\":\"scattercarpet\"}],\"scattergeo\":[{\"marker\":{\"colorbar\":{\"outlinewidth\":0,\"ticks\":\"\"}},\"type\":\"scattergeo\"}],\"scattergl\":[{\"marker\":{\"colorbar\":{\"outlinewidth\":0,\"ticks\":\"\"}},\"type\":\"scattergl\"}],\"scattermapbox\":[{\"marker\":{\"colorbar\":{\"outlinewidth\":0,\"ticks\":\"\"}},\"type\":\"scattermapbox\"}],\"scatterpolar\":[{\"marker\":{\"colorbar\":{\"outlinewidth\":0,\"ticks\":\"\"}},\"type\":\"scatterpolar\"}],\"scatterpolargl\":[{\"marker\":{\"colorbar\":{\"outlinewidth\":0,\"ticks\":\"\"}},\"type\":\"scatterpolargl\"}],\"scatterternary\":[{\"marker\":{\"colorbar\":{\"outlinewidth\":0,\"ticks\":\"\"}},\"type\":\"scatterternary\"}],\"surface\":[{\"colorbar\":{\"outlinewidth\":0,\"ticks\":\"\"},\"colorscale\":[[0.0,\"#0d0887\"],[0.1111111111111111,\"#46039f\"],[0.2222222222222222,\"#7201a8\"],[0.3333333333333333,\"#9c179e\"],[0.4444444444444444,\"#bd3786\"],[0.5555555555555556,\"#d8576b\"],[0.6666666666666666,\"#ed7953\"],[0.7777777777777778,\"#fb9f3a\"],[0.8888888888888888,\"#fdca26\"],[1.0,\"#f0f921\"]],\"type\":\"surface\"}],\"table\":[{\"cells\":{\"fill\":{\"color\":\"#EBF0F8\"},\"line\":{\"color\":\"white\"}},\"header\":{\"fill\":{\"color\":\"#C8D4E3\"},\"line\":{\"color\":\"white\"}},\"type\":\"table\"}]},\"layout\":{\"annotationdefaults\":{\"arrowcolor\":\"#2a3f5f\",\"arrowhead\":0,\"arrowwidth\":1},\"autotypenumbers\":\"strict\",\"coloraxis\":{\"colorbar\":{\"outlinewidth\":0,\"ticks\":\"\"}},\"colorscale\":{\"diverging\":[[0,\"#8e0152\"],[0.1,\"#c51b7d\"],[0.2,\"#de77ae\"],[0.3,\"#f1b6da\"],[0.4,\"#fde0ef\"],[0.5,\"#f7f7f7\"],[0.6,\"#e6f5d0\"],[0.7,\"#b8e186\"],[0.8,\"#7fbc41\"],[0.9,\"#4d9221\"],[1,\"#276419\"]],\"sequential\":[[0.0,\"#0d0887\"],[0.1111111111111111,\"#46039f\"],[0.2222222222222222,\"#7201a8\"],[0.3333333333333333,\"#9c179e\"],[0.4444444444444444,\"#bd3786\"],[0.5555555555555556,\"#d8576b\"],[0.6666666666666666,\"#ed7953\"],[0.7777777777777778,\"#fb9f3a\"],[0.8888888888888888,\"#fdca26\"],[1.0,\"#f0f921\"]],\"sequentialminus\":[[0.0,\"#0d0887\"],[0.1111111111111111,\"#46039f\"],[0.2222222222222222,\"#7201a8\"],[0.3333333333333333,\"#9c179e\"],[0.4444444444444444,\"#bd3786\"],[0.5555555555555556,\"#d8576b\"],[0.6666666666666666,\"#ed7953\"],[0.7777777777777778,\"#fb9f3a\"],[0.8888888888888888,\"#fdca26\"],[1.0,\"#f0f921\"]]},\"colorway\":[\"#636efa\",\"#EF553B\",\"#00cc96\",\"#ab63fa\",\"#FFA15A\",\"#19d3f3\",\"#FF6692\",\"#B6E880\",\"#FF97FF\",\"#FECB52\"],\"font\":{\"color\":\"#2a3f5f\"},\"geo\":{\"bgcolor\":\"white\",\"lakecolor\":\"white\",\"landcolor\":\"#E5ECF6\",\"showlakes\":true,\"showland\":true,\"subunitcolor\":\"white\"},\"hoverlabel\":{\"align\":\"left\"},\"hovermode\":\"closest\",\"mapbox\":{\"style\":\"light\"},\"paper_bgcolor\":\"white\",\"plot_bgcolor\":\"#E5ECF6\",\"polar\":{\"angularaxis\":{\"gridcolor\":\"white\",\"linecolor\":\"white\",\"ticks\":\"\"},\"bgcolor\":\"#E5ECF6\",\"radialaxis\":{\"gridcolor\":\"white\",\"linecolor\":\"white\",\"ticks\":\"\"}},\"scene\":{\"xaxis\":{\"backgroundcolor\":\"#E5ECF6\",\"gridcolor\":\"white\",\"gridwidth\":2,\"linecolor\":\"white\",\"showbackground\":true,\"ticks\":\"\",\"zerolinecolor\":\"white\"},\"yaxis\":{\"backgroundcolor\":\"#E5ECF6\",\"gridcolor\":\"white\",\"gridwidth\":2,\"linecolor\":\"white\",\"showbackground\":true,\"ticks\":\"\",\"zerolinecolor\":\"white\"},\"zaxis\":{\"backgroundcolor\":\"#E5ECF6\",\"gridcolor\":\"white\",\"gridwidth\":2,\"linecolor\":\"white\",\"showbackground\":true,\"ticks\":\"\",\"zerolinecolor\":\"white\"}},\"shapedefaults\":{\"line\":{\"color\":\"#2a3f5f\"}},\"ternary\":{\"aaxis\":{\"gridcolor\":\"white\",\"linecolor\":\"white\",\"ticks\":\"\"},\"baxis\":{\"gridcolor\":\"white\",\"linecolor\":\"white\",\"ticks\":\"\"},\"bgcolor\":\"#E5ECF6\",\"caxis\":{\"gridcolor\":\"white\",\"linecolor\":\"white\",\"ticks\":\"\"}},\"title\":{\"x\":0.05},\"xaxis\":{\"automargin\":true,\"gridcolor\":\"white\",\"linecolor\":\"white\",\"ticks\":\"\",\"title\":{\"standoff\":15},\"zerolinecolor\":\"white\",\"zerolinewidth\":2},\"yaxis\":{\"automargin\":true,\"gridcolor\":\"white\",\"linecolor\":\"white\",\"ticks\":\"\",\"title\":{\"standoff\":15},\"zerolinecolor\":\"white\",\"zerolinewidth\":2}}},\"xaxis\":{\"anchor\":\"y\",\"domain\":[0.0,1.0],\"title\":{\"text\":\"Sentiment\"}},\"yaxis\":{\"anchor\":\"x\",\"domain\":[0.0,1.0],\"title\":{\"text\":\"count\"}},\"legend\":{\"tracegroupgap\":0},\"margin\":{\"t\":60},\"barmode\":\"relative\"},                        {\"responsive\": true}                    ).then(function(){\n",
              "                            \n",
              "var gd = document.getElementById('9f06ea48-49da-40a4-bd4f-d6346bdaf54d');\n",
              "var x = new MutationObserver(function (mutations, observer) {{\n",
              "        var display = window.getComputedStyle(gd).display;\n",
              "        if (!display || display === 'none') {{\n",
              "            console.log([gd, 'removed!']);\n",
              "            Plotly.purge(gd);\n",
              "            observer.disconnect();\n",
              "        }}\n",
              "}});\n",
              "\n",
              "// Listen for the removal of the full notebook cells\n",
              "var notebookContainer = gd.closest('#notebook-container');\n",
              "if (notebookContainer) {{\n",
              "    x.observe(notebookContainer, {childList: true});\n",
              "}}\n",
              "\n",
              "// Listen for the clearing of the current output cell\n",
              "var outputEl = gd.closest('.output');\n",
              "if (outputEl) {{\n",
              "    x.observe(outputEl, {childList: true});\n",
              "}}\n",
              "\n",
              "                        })                };                            </script>        </div>\n",
              "</body>\n",
              "</html>"
            ]
          },
          "metadata": {}
        }
      ],
      "source": [
        "px.histogram(data_frame= data, x = 'Sentiment')"
      ]
    },
    {
      "cell_type": "code",
      "execution_count": 40,
      "metadata": {
        "colab": {
          "base_uri": "https://localhost:8080/",
          "height": 1000
        },
        "id": "ZJaMorKn-ntm",
        "outputId": "93bacb9b-4a66-4ac9-de53-7860fbb7657c"
      },
      "outputs": [
        {
          "output_type": "execute_result",
          "data": {
            "text/plain": [
              "                                                 Review        date  \\\n",
              "653   Do not valet your vehicle at this property! I ...  2019/06/21   \n",
              "665   Ich war groer Fax des Hotels und war bereits G...  2019/06/19   \n",
              "751   This was a terrible experience to me. First of...  2019/06/04   \n",
              "940   Ursprnglich gutes Angebot, spter Ernchterung H...  2019/05/17   \n",
              "950   Carpets in hallways were gross & dirty. Same p...  2019/05/16   \n",
              "1289  Das Hotel ist lter, aber in einem sauberen Zus...  2019/04/23   \n",
              "1884  Handicap room this sucks I hate the shower I h...  2019/03/24   \n",
              "1906  We were evacuated twice from the hotel. The fi...  2019/03/22   \n",
              "1908  Die Mitarbeiter waren sehr nett und hilfsberei...  2019/03/22   \n",
              "1916  The condition of the rooms were very bad, dirt...  2019/03/22   \n",
              "2093  This place was a huge disappointment and we le...  2019/03/11   \n",
              "2453  The hotel is old and gross. The rooms smelled ...   2019/2/11   \n",
              "2838  Had bad experience. Room was dirty, staff was ...   2019/1/10   \n",
              "2861  Also von auen sieht das Hotel top aus. Das Zim...    2019/1/8   \n",
              "3005  This is a terrible place to stay. My room was ...  2019/01/02   \n",
              "3022  The pictures on the website/ any hotels.com et...  2019/01/01   \n",
              "3061  Sehr zentrale Hotel um die New York zu erkunde...  2018/12/30   \n",
              "3066  From the moment we walked in this was not what...  2018/12/30   \n",
              "3194  I really enjoyed staying at the hotel before I...  2018/12/23   \n",
              "3229  I booked The Yorker through Hotels.com and som...  2018/12/21   \n",
              "3272  the hotel itself was nice, location was a litt...  2018/12/18   \n",
              "4225  Upon arrival they asked if we wanted to upgrad...  2018/10/20   \n",
              "4234  Die Lage ist super toll! Aber fr den Preis war...  2018/10/20   \n",
              "4839  The entrance & lobby seemed nice. After entrri...  2018/09/04   \n",
              "5102  No air conditioning on a hot summer day in lob...  2018/08/15   \n",
              "6175  rooms were quiet and large. beds were adequate...  2019/08/19   \n",
              "\n",
              "                  Location                                     Review_cleaned  \\\n",
              "653                    NaN  Do not valet your vehicle at this property  I ...   \n",
              "665                    NaN  Ich war groer Fax des Hotels und war bereits G...   \n",
              "751       Montreal, Canada  This was a terrible experience to me  First of...   \n",
              "940                    NaN  Ursprnglich gutes Angebot  spter Ernchterung H...   \n",
              "950             Visalia Ca  Carpets in hallways were gross   dirty  Same p...   \n",
              "1289              Linz, at  Das Hotel ist lter  aber in einem sauberen Zus...   \n",
              "1884            Modesto ca  Handicap room this sucks I hate the shower I h...   \n",
              "1906                   NaN  We were evacuated twice from the hotel  The fi...   \n",
              "1908                   NaN  Die Mitarbeiter waren sehr nett und hilfsberei...   \n",
              "1916                   NaN  The condition of the rooms were very bad  dirt...   \n",
              "2093  Walnut hill Illinois  This place was a huge disappointment and we le...   \n",
              "2453     San Francisco, CA  The hotel is old and gross  The rooms smelled ...   \n",
              "2838                   NaN  Had bad experience  Room was dirty  staff was ...   \n",
              "2861                   NaN  Also von auen sieht das Hotel top aus  Das Zim...   \n",
              "3005         Pikeville, Ky  This is a terrible place to stay  My room was ...   \n",
              "3022                   NaN  The pictures on the website  any hotels com et...   \n",
              "3061   Mönchengladbach, de  Sehr zentrale Hotel um die New York zu erkunde...   \n",
              "3066                   NaN  From the moment we walked in this was not what...   \n",
              "3194                   NaN  I really enjoyed staying at the hotel before I...   \n",
              "3229                   NaN  I booked The Yorker through Hotels com and som...   \n",
              "3272                   NaN  the hotel itself was nice  location was a litt...   \n",
              "4225                   NaN  Upon arrival they asked if we wanted to upgrad...   \n",
              "4234                   NaN  Die Lage ist super toll  Aber fr den Preis war...   \n",
              "4839                Oregon  The entrance   lobby seemed nice  After entrri...   \n",
              "5102                   NaN  No air conditioning on a hot summer day in lob...   \n",
              "6175             Singapore  rooms were quiet and large  beds were adequate...   \n",
              "\n",
              "                                             lemmatized  Sentiment  \n",
              "653   valet vehicle property ! mistake allow valet m...        -13  \n",
              "665   Ich war groer Fax des Hotels und war bereit Ga...        -33  \n",
              "751   terrible experience . book night stay hotel sh...        -19  \n",
              "940   ursprnglich gut Angebot , spter Ernchterung Ho...        -31  \n",
              "950   carpet hallway gross & dirty . picture post ha...        -12  \n",
              "1289  Das Hotel ist lter , aber einem sauberen Zusta...        -13  \n",
              "1884      handicap room suck hate shower hate hate room        -12  \n",
              "1906  evacuate twice hotel . time Wednesday night 10...        -12  \n",
              "1908  die Mitarbeiter waren sehr nett und hilfsberei...        -19  \n",
              "1916  condition room bad , dirty smell . bathroom fl...        -15  \n",
              "2093  place huge disappointment leave book different...        -12  \n",
              "2453  hotel old gross . room smell warm pee , pillow...        -13  \n",
              "2838  bad experience . room dirty , staff unfriendly...        -12  \n",
              "2861  von auen sieht das Hotel aus . Das Zimmer alle...        -12  \n",
              "3005  terrible place stay . room horrible , hair , l...        -15  \n",
              "3022  picture website/ hotels.com etc . platform com...        -13  \n",
              "3061  sehr zentrale Hotel um die New York zu erkunde...        -18  \n",
              "3066  moment walk expect . lobby dingy , old dirty ....        -19  \n",
              "3194  enjoy stay hotel get disappoint leave hotel , ...        -13  \n",
              "3229  book Yorker Hotels.com wind wrong day book . f...        -13  \n",
              "3272  hotel nice , location little inconvenient run ...        -15  \n",
              "4225  arrival ask want upgrade room family room view...        -12  \n",
              "4234  die lage ist super toll ! aber fr den preis wa...        -13  \n",
              "4839  entrance & lobby nice . entrre room , immediat...        -17  \n",
              "5102  air condition hot summer day lobby dining room...        -14  \n",
              "6175  room quiet large . bed adequate . checkin plea...        -17  "
            ],
            "text/html": [
              "\n",
              "  <div id=\"df-d4660edd-5f2a-4314-8535-52c81f487807\">\n",
              "    <div class=\"colab-df-container\">\n",
              "      <div>\n",
              "<style scoped>\n",
              "    .dataframe tbody tr th:only-of-type {\n",
              "        vertical-align: middle;\n",
              "    }\n",
              "\n",
              "    .dataframe tbody tr th {\n",
              "        vertical-align: top;\n",
              "    }\n",
              "\n",
              "    .dataframe thead th {\n",
              "        text-align: right;\n",
              "    }\n",
              "</style>\n",
              "<table border=\"1\" class=\"dataframe\">\n",
              "  <thead>\n",
              "    <tr style=\"text-align: right;\">\n",
              "      <th></th>\n",
              "      <th>Review</th>\n",
              "      <th>date</th>\n",
              "      <th>Location</th>\n",
              "      <th>Review_cleaned</th>\n",
              "      <th>lemmatized</th>\n",
              "      <th>Sentiment</th>\n",
              "    </tr>\n",
              "  </thead>\n",
              "  <tbody>\n",
              "    <tr>\n",
              "      <th>653</th>\n",
              "      <td>Do not valet your vehicle at this property! I ...</td>\n",
              "      <td>2019/06/21</td>\n",
              "      <td>NaN</td>\n",
              "      <td>Do not valet your vehicle at this property  I ...</td>\n",
              "      <td>valet vehicle property ! mistake allow valet m...</td>\n",
              "      <td>-13</td>\n",
              "    </tr>\n",
              "    <tr>\n",
              "      <th>665</th>\n",
              "      <td>Ich war groer Fax des Hotels und war bereits G...</td>\n",
              "      <td>2019/06/19</td>\n",
              "      <td>NaN</td>\n",
              "      <td>Ich war groer Fax des Hotels und war bereits G...</td>\n",
              "      <td>Ich war groer Fax des Hotels und war bereit Ga...</td>\n",
              "      <td>-33</td>\n",
              "    </tr>\n",
              "    <tr>\n",
              "      <th>751</th>\n",
              "      <td>This was a terrible experience to me. First of...</td>\n",
              "      <td>2019/06/04</td>\n",
              "      <td>Montreal, Canada</td>\n",
              "      <td>This was a terrible experience to me  First of...</td>\n",
              "      <td>terrible experience . book night stay hotel sh...</td>\n",
              "      <td>-19</td>\n",
              "    </tr>\n",
              "    <tr>\n",
              "      <th>940</th>\n",
              "      <td>Ursprnglich gutes Angebot, spter Ernchterung H...</td>\n",
              "      <td>2019/05/17</td>\n",
              "      <td>NaN</td>\n",
              "      <td>Ursprnglich gutes Angebot  spter Ernchterung H...</td>\n",
              "      <td>ursprnglich gut Angebot , spter Ernchterung Ho...</td>\n",
              "      <td>-31</td>\n",
              "    </tr>\n",
              "    <tr>\n",
              "      <th>950</th>\n",
              "      <td>Carpets in hallways were gross &amp; dirty. Same p...</td>\n",
              "      <td>2019/05/16</td>\n",
              "      <td>Visalia Ca</td>\n",
              "      <td>Carpets in hallways were gross   dirty  Same p...</td>\n",
              "      <td>carpet hallway gross &amp; dirty . picture post ha...</td>\n",
              "      <td>-12</td>\n",
              "    </tr>\n",
              "    <tr>\n",
              "      <th>1289</th>\n",
              "      <td>Das Hotel ist lter, aber in einem sauberen Zus...</td>\n",
              "      <td>2019/04/23</td>\n",
              "      <td>Linz, at</td>\n",
              "      <td>Das Hotel ist lter  aber in einem sauberen Zus...</td>\n",
              "      <td>Das Hotel ist lter , aber einem sauberen Zusta...</td>\n",
              "      <td>-13</td>\n",
              "    </tr>\n",
              "    <tr>\n",
              "      <th>1884</th>\n",
              "      <td>Handicap room this sucks I hate the shower I h...</td>\n",
              "      <td>2019/03/24</td>\n",
              "      <td>Modesto ca</td>\n",
              "      <td>Handicap room this sucks I hate the shower I h...</td>\n",
              "      <td>handicap room suck hate shower hate hate room</td>\n",
              "      <td>-12</td>\n",
              "    </tr>\n",
              "    <tr>\n",
              "      <th>1906</th>\n",
              "      <td>We were evacuated twice from the hotel. The fi...</td>\n",
              "      <td>2019/03/22</td>\n",
              "      <td>NaN</td>\n",
              "      <td>We were evacuated twice from the hotel  The fi...</td>\n",
              "      <td>evacuate twice hotel . time Wednesday night 10...</td>\n",
              "      <td>-12</td>\n",
              "    </tr>\n",
              "    <tr>\n",
              "      <th>1908</th>\n",
              "      <td>Die Mitarbeiter waren sehr nett und hilfsberei...</td>\n",
              "      <td>2019/03/22</td>\n",
              "      <td>NaN</td>\n",
              "      <td>Die Mitarbeiter waren sehr nett und hilfsberei...</td>\n",
              "      <td>die Mitarbeiter waren sehr nett und hilfsberei...</td>\n",
              "      <td>-19</td>\n",
              "    </tr>\n",
              "    <tr>\n",
              "      <th>1916</th>\n",
              "      <td>The condition of the rooms were very bad, dirt...</td>\n",
              "      <td>2019/03/22</td>\n",
              "      <td>NaN</td>\n",
              "      <td>The condition of the rooms were very bad  dirt...</td>\n",
              "      <td>condition room bad , dirty smell . bathroom fl...</td>\n",
              "      <td>-15</td>\n",
              "    </tr>\n",
              "    <tr>\n",
              "      <th>2093</th>\n",
              "      <td>This place was a huge disappointment and we le...</td>\n",
              "      <td>2019/03/11</td>\n",
              "      <td>Walnut hill Illinois</td>\n",
              "      <td>This place was a huge disappointment and we le...</td>\n",
              "      <td>place huge disappointment leave book different...</td>\n",
              "      <td>-12</td>\n",
              "    </tr>\n",
              "    <tr>\n",
              "      <th>2453</th>\n",
              "      <td>The hotel is old and gross. The rooms smelled ...</td>\n",
              "      <td>2019/2/11</td>\n",
              "      <td>San Francisco, CA</td>\n",
              "      <td>The hotel is old and gross  The rooms smelled ...</td>\n",
              "      <td>hotel old gross . room smell warm pee , pillow...</td>\n",
              "      <td>-13</td>\n",
              "    </tr>\n",
              "    <tr>\n",
              "      <th>2838</th>\n",
              "      <td>Had bad experience. Room was dirty, staff was ...</td>\n",
              "      <td>2019/1/10</td>\n",
              "      <td>NaN</td>\n",
              "      <td>Had bad experience  Room was dirty  staff was ...</td>\n",
              "      <td>bad experience . room dirty , staff unfriendly...</td>\n",
              "      <td>-12</td>\n",
              "    </tr>\n",
              "    <tr>\n",
              "      <th>2861</th>\n",
              "      <td>Also von auen sieht das Hotel top aus. Das Zim...</td>\n",
              "      <td>2019/1/8</td>\n",
              "      <td>NaN</td>\n",
              "      <td>Also von auen sieht das Hotel top aus  Das Zim...</td>\n",
              "      <td>von auen sieht das Hotel aus . Das Zimmer alle...</td>\n",
              "      <td>-12</td>\n",
              "    </tr>\n",
              "    <tr>\n",
              "      <th>3005</th>\n",
              "      <td>This is a terrible place to stay. My room was ...</td>\n",
              "      <td>2019/01/02</td>\n",
              "      <td>Pikeville, Ky</td>\n",
              "      <td>This is a terrible place to stay  My room was ...</td>\n",
              "      <td>terrible place stay . room horrible , hair , l...</td>\n",
              "      <td>-15</td>\n",
              "    </tr>\n",
              "    <tr>\n",
              "      <th>3022</th>\n",
              "      <td>The pictures on the website/ any hotels.com et...</td>\n",
              "      <td>2019/01/01</td>\n",
              "      <td>NaN</td>\n",
              "      <td>The pictures on the website  any hotels com et...</td>\n",
              "      <td>picture website/ hotels.com etc . platform com...</td>\n",
              "      <td>-13</td>\n",
              "    </tr>\n",
              "    <tr>\n",
              "      <th>3061</th>\n",
              "      <td>Sehr zentrale Hotel um die New York zu erkunde...</td>\n",
              "      <td>2018/12/30</td>\n",
              "      <td>Mönchengladbach, de</td>\n",
              "      <td>Sehr zentrale Hotel um die New York zu erkunde...</td>\n",
              "      <td>sehr zentrale Hotel um die New York zu erkunde...</td>\n",
              "      <td>-18</td>\n",
              "    </tr>\n",
              "    <tr>\n",
              "      <th>3066</th>\n",
              "      <td>From the moment we walked in this was not what...</td>\n",
              "      <td>2018/12/30</td>\n",
              "      <td>NaN</td>\n",
              "      <td>From the moment we walked in this was not what...</td>\n",
              "      <td>moment walk expect . lobby dingy , old dirty ....</td>\n",
              "      <td>-19</td>\n",
              "    </tr>\n",
              "    <tr>\n",
              "      <th>3194</th>\n",
              "      <td>I really enjoyed staying at the hotel before I...</td>\n",
              "      <td>2018/12/23</td>\n",
              "      <td>NaN</td>\n",
              "      <td>I really enjoyed staying at the hotel before I...</td>\n",
              "      <td>enjoy stay hotel get disappoint leave hotel , ...</td>\n",
              "      <td>-13</td>\n",
              "    </tr>\n",
              "    <tr>\n",
              "      <th>3229</th>\n",
              "      <td>I booked The Yorker through Hotels.com and som...</td>\n",
              "      <td>2018/12/21</td>\n",
              "      <td>NaN</td>\n",
              "      <td>I booked The Yorker through Hotels com and som...</td>\n",
              "      <td>book Yorker Hotels.com wind wrong day book . f...</td>\n",
              "      <td>-13</td>\n",
              "    </tr>\n",
              "    <tr>\n",
              "      <th>3272</th>\n",
              "      <td>the hotel itself was nice, location was a litt...</td>\n",
              "      <td>2018/12/18</td>\n",
              "      <td>NaN</td>\n",
              "      <td>the hotel itself was nice  location was a litt...</td>\n",
              "      <td>hotel nice , location little inconvenient run ...</td>\n",
              "      <td>-15</td>\n",
              "    </tr>\n",
              "    <tr>\n",
              "      <th>4225</th>\n",
              "      <td>Upon arrival they asked if we wanted to upgrad...</td>\n",
              "      <td>2018/10/20</td>\n",
              "      <td>NaN</td>\n",
              "      <td>Upon arrival they asked if we wanted to upgrad...</td>\n",
              "      <td>arrival ask want upgrade room family room view...</td>\n",
              "      <td>-12</td>\n",
              "    </tr>\n",
              "    <tr>\n",
              "      <th>4234</th>\n",
              "      <td>Die Lage ist super toll! Aber fr den Preis war...</td>\n",
              "      <td>2018/10/20</td>\n",
              "      <td>NaN</td>\n",
              "      <td>Die Lage ist super toll  Aber fr den Preis war...</td>\n",
              "      <td>die lage ist super toll ! aber fr den preis wa...</td>\n",
              "      <td>-13</td>\n",
              "    </tr>\n",
              "    <tr>\n",
              "      <th>4839</th>\n",
              "      <td>The entrance &amp; lobby seemed nice. After entrri...</td>\n",
              "      <td>2018/09/04</td>\n",
              "      <td>Oregon</td>\n",
              "      <td>The entrance   lobby seemed nice  After entrri...</td>\n",
              "      <td>entrance &amp; lobby nice . entrre room , immediat...</td>\n",
              "      <td>-17</td>\n",
              "    </tr>\n",
              "    <tr>\n",
              "      <th>5102</th>\n",
              "      <td>No air conditioning on a hot summer day in lob...</td>\n",
              "      <td>2018/08/15</td>\n",
              "      <td>NaN</td>\n",
              "      <td>No air conditioning on a hot summer day in lob...</td>\n",
              "      <td>air condition hot summer day lobby dining room...</td>\n",
              "      <td>-14</td>\n",
              "    </tr>\n",
              "    <tr>\n",
              "      <th>6175</th>\n",
              "      <td>rooms were quiet and large. beds were adequate...</td>\n",
              "      <td>2019/08/19</td>\n",
              "      <td>Singapore</td>\n",
              "      <td>rooms were quiet and large  beds were adequate...</td>\n",
              "      <td>room quiet large . bed adequate . checkin plea...</td>\n",
              "      <td>-17</td>\n",
              "    </tr>\n",
              "  </tbody>\n",
              "</table>\n",
              "</div>\n",
              "      <button class=\"colab-df-convert\" onclick=\"convertToInteractive('df-d4660edd-5f2a-4314-8535-52c81f487807')\"\n",
              "              title=\"Convert this dataframe to an interactive table.\"\n",
              "              style=\"display:none;\">\n",
              "        \n",
              "  <svg xmlns=\"http://www.w3.org/2000/svg\" height=\"24px\"viewBox=\"0 0 24 24\"\n",
              "       width=\"24px\">\n",
              "    <path d=\"M0 0h24v24H0V0z\" fill=\"none\"/>\n",
              "    <path d=\"M18.56 5.44l.94 2.06.94-2.06 2.06-.94-2.06-.94-.94-2.06-.94 2.06-2.06.94zm-11 1L8.5 8.5l.94-2.06 2.06-.94-2.06-.94L8.5 2.5l-.94 2.06-2.06.94zm10 10l.94 2.06.94-2.06 2.06-.94-2.06-.94-.94-2.06-.94 2.06-2.06.94z\"/><path d=\"M17.41 7.96l-1.37-1.37c-.4-.4-.92-.59-1.43-.59-.52 0-1.04.2-1.43.59L10.3 9.45l-7.72 7.72c-.78.78-.78 2.05 0 2.83L4 21.41c.39.39.9.59 1.41.59.51 0 1.02-.2 1.41-.59l7.78-7.78 2.81-2.81c.8-.78.8-2.07 0-2.86zM5.41 20L4 18.59l7.72-7.72 1.47 1.35L5.41 20z\"/>\n",
              "  </svg>\n",
              "      </button>\n",
              "      \n",
              "  <style>\n",
              "    .colab-df-container {\n",
              "      display:flex;\n",
              "      flex-wrap:wrap;\n",
              "      gap: 12px;\n",
              "    }\n",
              "\n",
              "    .colab-df-convert {\n",
              "      background-color: #E8F0FE;\n",
              "      border: none;\n",
              "      border-radius: 50%;\n",
              "      cursor: pointer;\n",
              "      display: none;\n",
              "      fill: #1967D2;\n",
              "      height: 32px;\n",
              "      padding: 0 0 0 0;\n",
              "      width: 32px;\n",
              "    }\n",
              "\n",
              "    .colab-df-convert:hover {\n",
              "      background-color: #E2EBFA;\n",
              "      box-shadow: 0px 1px 2px rgba(60, 64, 67, 0.3), 0px 1px 3px 1px rgba(60, 64, 67, 0.15);\n",
              "      fill: #174EA6;\n",
              "    }\n",
              "\n",
              "    [theme=dark] .colab-df-convert {\n",
              "      background-color: #3B4455;\n",
              "      fill: #D2E3FC;\n",
              "    }\n",
              "\n",
              "    [theme=dark] .colab-df-convert:hover {\n",
              "      background-color: #434B5C;\n",
              "      box-shadow: 0px 1px 3px 1px rgba(0, 0, 0, 0.15);\n",
              "      filter: drop-shadow(0px 1px 2px rgba(0, 0, 0, 0.3));\n",
              "      fill: #FFFFFF;\n",
              "    }\n",
              "  </style>\n",
              "\n",
              "      <script>\n",
              "        const buttonEl =\n",
              "          document.querySelector('#df-d4660edd-5f2a-4314-8535-52c81f487807 button.colab-df-convert');\n",
              "        buttonEl.style.display =\n",
              "          google.colab.kernel.accessAllowed ? 'block' : 'none';\n",
              "\n",
              "        async function convertToInteractive(key) {\n",
              "          const element = document.querySelector('#df-d4660edd-5f2a-4314-8535-52c81f487807');\n",
              "          const dataTable =\n",
              "            await google.colab.kernel.invokeFunction('convertToInteractive',\n",
              "                                                     [key], {});\n",
              "          if (!dataTable) return;\n",
              "\n",
              "          const docLinkHtml = 'Like what you see? Visit the ' +\n",
              "            '<a target=\"_blank\" href=https://colab.research.google.com/notebooks/data_table.ipynb>data table notebook</a>'\n",
              "            + ' to learn more about interactive tables.';\n",
              "          element.innerHTML = '';\n",
              "          dataTable['output_type'] = 'display_data';\n",
              "          await google.colab.output.renderOutput(dataTable, element);\n",
              "          const docLink = document.createElement('div');\n",
              "          docLink.innerHTML = docLinkHtml;\n",
              "          element.appendChild(docLink);\n",
              "        }\n",
              "      </script>\n",
              "    </div>\n",
              "  </div>\n",
              "  "
            ]
          },
          "metadata": {},
          "execution_count": 40
        }
      ],
      "source": [
        "data[data.Sentiment < -10 ]"
      ]
    },
    {
      "cell_type": "code",
      "execution_count": null,
      "metadata": {
        "id": "7VXoNpWX-nt3"
      },
      "outputs": [],
      "source": [
        ""
      ]
    }
  ],
  "metadata": {
    "interpreter": {
      "hash": "7be0313b9b0b82634757c96dd852576f7ee75d75f1a026daa79c1cfa1a797b3e"
    },
    "kernelspec": {
      "display_name": "Python 3.9.7",
      "language": "python",
      "name": "python3"
    },
    "language_info": {
      "codemirror_mode": {
        "name": "ipython",
        "version": 3
      },
      "file_extension": ".py",
      "mimetype": "text/x-python",
      "name": "python",
      "nbconvert_exporter": "python",
      "pygments_lexer": "ipython3",
      "version": "3.9.7"
    },
    "orig_nbformat": 4,
    "colab": {
      "name": "exploration.ipynb",
      "provenance": [],
      "collapsed_sections": [],
      "toc_visible": true,
      "include_colab_link": true
    }
  },
  "nbformat": 4,
  "nbformat_minor": 0
}